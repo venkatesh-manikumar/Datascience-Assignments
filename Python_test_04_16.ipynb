{
  "nbformat": 4,
  "nbformat_minor": 0,
  "metadata": {
    "colab": {
      "name": "Python_test_04_16.ipynb",
      "provenance": [],
      "authorship_tag": "ABX9TyPdyRYUecRwJxpQNSJObUgl",
      "include_colab_link": true
    },
    "kernelspec": {
      "name": "python3",
      "display_name": "Python 3"
    },
    "language_info": {
      "name": "python"
    }
  },
  "cells": [
    {
      "cell_type": "markdown",
      "metadata": {
        "id": "view-in-github",
        "colab_type": "text"
      },
      "source": [
        "<a href=\"https://colab.research.google.com/github/venkatesh-manikumar/Datascience-Assignments/blob/main/Python_test_04_16.ipynb\" target=\"_parent\"><img src=\"https://colab.research.google.com/assets/colab-badge.svg\" alt=\"Open In Colab\"/></a>"
      ]
    },
    {
      "cell_type": "markdown",
      "source": [
        "1.Write a program (with function) which takes a sequence of numbers and check if all numbers are unique."
      ],
      "metadata": {
        "id": "44iu64r5gvMv"
      }
    },
    {
      "cell_type": "code",
      "source": [
        "def unique_test(data):\n",
        "  if len(data) == len(set(data)):\n",
        "    return \"Unique\"\n",
        "  else:\n",
        "    return \"Not Unique\";\n",
        "print(unique_test([1,1,2,2]))\n",
        "print(unique_test([1,2,3,4,5]))"
      ],
      "metadata": {
        "colab": {
          "base_uri": "https://localhost:8080/"
        },
        "id": "w1JNXeS2gy82",
        "outputId": "d35c9cd6-6bf6-47e7-e0a2-af27b4cab7bd"
      },
      "execution_count": 17,
      "outputs": [
        {
          "output_type": "stream",
          "name": "stdout",
          "text": [
            "Not Unique\n",
            "Unique\n"
          ]
        }
      ]
    },
    {
      "cell_type": "markdown",
      "source": [
        "2.Python program to find out the average of a set of integers\n",
        "a. Note: Don’t use the pre-defined functions like np.mean\n",
        "b. For ex: If input is 5, the output should be average of 1+2+3+4+5"
      ],
      "metadata": {
        "id": "Pih6jh09hje2"
      }
    },
    {
      "cell_type": "code",
      "source": [
        "def average_calc(i):\n",
        "  data = [x for x in range(1,i+1)]\n",
        "  return data , sum([x for x in range(1,i+1)]) / i\n",
        "\n",
        "print(average_calc(5))\n",
        "print(average_calc(10))"
      ],
      "metadata": {
        "colab": {
          "base_uri": "https://localhost:8080/"
        },
        "id": "U3ZD62zFhlcI",
        "outputId": "1f6ab762-64c6-4081-c7e4-41e681aae135"
      },
      "execution_count": 33,
      "outputs": [
        {
          "output_type": "stream",
          "name": "stdout",
          "text": [
            "([1, 2, 3, 4, 5], 3.0)\n",
            "([1, 2, 3, 4, 5, 6, 7, 8, 9, 10], 5.5)\n"
          ]
        }
      ]
    },
    {
      "cell_type": "markdown",
      "source": [
        "3.Python program to check whether the given integer is a multiple of both 5 and 7"
      ],
      "metadata": {
        "id": "x3taNO20jUXl"
      }
    },
    {
      "cell_type": "code",
      "source": [
        "def multiply_check(i):\n",
        "  return i , i % 5 == 0 and i % 7 == 0\n",
        "\n",
        "multiply_check(35)"
      ],
      "metadata": {
        "colab": {
          "base_uri": "https://localhost:8080/"
        },
        "id": "5ndEKoxFjTwH",
        "outputId": "b85860ac-27c6-46f7-c5b3-aee3d2c8175f"
      },
      "execution_count": 41,
      "outputs": [
        {
          "output_type": "execute_result",
          "data": {
            "text/plain": [
              "(35, True)"
            ]
          },
          "metadata": {},
          "execution_count": 41
        }
      ]
    },
    {
      "cell_type": "markdown",
      "source": [
        "4.Python program to display the given integer in reverse manner\n",
        "a. Ex: input 852, output should be 258"
      ],
      "metadata": {
        "id": "-2lefV86kIac"
      }
    },
    {
      "cell_type": "code",
      "source": [
        "def reverse(num):\n",
        "  reverse = 0\n",
        "  while num > 0:\n",
        "    rem = num % 10                  \n",
        "    reverse = reverse * 10 + rem    \n",
        "    num //= 10                      \n",
        "\n",
        "  print(\"Reversed number: \", reverse)\n",
        "\n",
        "reverse(1234)"
      ],
      "metadata": {
        "colab": {
          "base_uri": "https://localhost:8080/"
        },
        "id": "idGdKn-NkH_5",
        "outputId": "e4b0f170-2115-439e-91a5-1840b6bc71ad"
      },
      "execution_count": 47,
      "outputs": [
        {
          "output_type": "stream",
          "name": "stdout",
          "text": [
            "Reversed number:  4321\n"
          ]
        }
      ]
    },
    {
      "cell_type": "markdown",
      "source": [
        "5. Create an inner function to calculate the addition in the following way\n",
        "a. Create an outer function that will accept two parameters, a and b\n",
        "b. Create an inner function inside an outer function that will calculate the addition of a and b\n",
        "c. At last, an outer function will add 5 into addition and return it"
      ],
      "metadata": {
        "id": "xPnly1RGmSY8"
      }
    },
    {
      "cell_type": "code",
      "source": [
        "def decorating_func(f):\n",
        "  def nested_func(a,b):\n",
        "    print(\"ADDITION\",a+b)\n",
        "    return f(a+b,0)\n",
        "  return nested_func\n",
        "\n",
        "@decorating_func\n",
        "def ordinary_func(a,b):\n",
        "  print(\"Inside ordinary function\")\n",
        "  return a+5\n",
        "\n",
        "ordinary_func(30,10)"
      ],
      "metadata": {
        "colab": {
          "base_uri": "https://localhost:8080/"
        },
        "id": "UMTopsKjmVYk",
        "outputId": "5a4dcd6e-fc97-411d-b75c-66ab5a37f42a"
      },
      "execution_count": 66,
      "outputs": [
        {
          "output_type": "stream",
          "name": "stdout",
          "text": [
            "ADDITION 40\n",
            "Inside ordinary function\n"
          ]
        },
        {
          "output_type": "execute_result",
          "data": {
            "text/plain": [
              "45"
            ]
          },
          "metadata": {},
          "execution_count": 66
        }
      ]
    },
    {
      "cell_type": "markdown",
      "source": [
        "6.Python Program to Check Leap Year\n",
        "a. A leap year is exactly divisible by 4 except for century years (years ending with 00). The century year is a leap year only if it is perfectly divisible by 400\n",
        "b. For ex: 2017 is not a leap year, 1900 is a not leap year, 2012 is a leap year, 2000 is a leap year"
      ],
      "metadata": {
        "id": "W7U36aXQldVW"
      }
    },
    {
      "cell_type": "code",
      "source": [
        "import calendar\n",
        "def checkYear(year):\n",
        "   return(calendar.isleap(year))\n",
        "\n",
        "checkYear(1900)"
      ],
      "metadata": {
        "colab": {
          "base_uri": "https://localhost:8080/"
        },
        "id": "vOqd80VXjmA3",
        "outputId": "0629078b-57ce-47f3-fc8f-49ccef5abda2"
      },
      "execution_count": 52,
      "outputs": [
        {
          "output_type": "execute_result",
          "data": {
            "text/plain": [
              "False"
            ]
          },
          "metadata": {},
          "execution_count": 52
        }
      ]
    }
  ]
}