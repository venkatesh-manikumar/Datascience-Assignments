{
  "nbformat": 4,
  "nbformat_minor": 0,
  "metadata": {
    "colab": {
      "name": "Untitled1.ipynb",
      "provenance": [],
      "authorship_tag": "ABX9TyN9hnA13D1wHceEZOVtIsjX",
      "include_colab_link": true
    },
    "kernelspec": {
      "name": "python3",
      "display_name": "Python 3"
    },
    "language_info": {
      "name": "python"
    }
  },
  "cells": [
    {
      "cell_type": "markdown",
      "metadata": {
        "id": "view-in-github",
        "colab_type": "text"
      },
      "source": [
        "<a href=\"https://colab.research.google.com/github/venkatesh-manikumar/Datascience-Assignments/blob/main/Test.ipynb\" target=\"_parent\"><img src=\"https://colab.research.google.com/assets/colab-badge.svg\" alt=\"Open In Colab\"/></a>"
      ]
    },
    {
      "cell_type": "markdown",
      "source": [
        "1.\tCreate a program that asks the user to enter their name and their age. Print out a message that tells them the year that they will turn 100 years old"
      ],
      "metadata": {
        "id": "V5D9okW_Cnmk"
      }
    },
    {
      "cell_type": "code",
      "source": [
        "from datetime import date\n",
        "year = date.today().year\n",
        "name = str(input('Enter the name : '))\n",
        "age = int(input('Enter the age : '))\n",
        "print(year + (100-age))"
      ],
      "metadata": {
        "colab": {
          "base_uri": "https://localhost:8080/"
        },
        "id": "CpbbeYm6CqCY",
        "outputId": "8aa81fc6-e09c-4300-bda6-a02ccbc5d98b"
      },
      "execution_count": 8,
      "outputs": [
        {
          "output_type": "stream",
          "name": "stdout",
          "text": [
            "Enter the name : ABC\n",
            "Enter the age : 12\n",
            "2110\n"
          ]
        }
      ]
    },
    {
      "cell_type": "markdown",
      "source": [
        "2.\tWhat is pandas groupby? Demonstrate with your own example"
      ],
      "metadata": {
        "id": "CYVD2W_SEJwp"
      }
    },
    {
      "cell_type": "code",
      "source": [
        "import pandas as pd\n",
        "Dict('name': ['A','B','C'])"
      ],
      "metadata": {
        "id": "l1l5VixLDxRD"
      },
      "execution_count": null,
      "outputs": []
    }
  ]
}