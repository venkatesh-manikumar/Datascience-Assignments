{
  "nbformat": 4,
  "nbformat_minor": 0,
  "metadata": {
    "colab": {
      "provenance": [],
      "mount_file_id": "1qf_cIdFbRKWa85LkcM2CAqhY6V4eXe-6",
      "authorship_tag": "ABX9TyN9e9e6jYGLjdPGs8mkVt2O",
      "include_colab_link": true
    },
    "kernelspec": {
      "name": "python3",
      "display_name": "Python 3"
    },
    "language_info": {
      "name": "python"
    }
  },
  "cells": [
    {
      "cell_type": "markdown",
      "metadata": {
        "id": "view-in-github",
        "colab_type": "text"
      },
      "source": [
        "<a href=\"https://colab.research.google.com/github/venkatesh-manikumar/Datascience-Assignments/blob/main/california_housing_prices_.ipynb\" target=\"_parent\"><img src=\"https://colab.research.google.com/assets/colab-badge.svg\" alt=\"Open In Colab\"/></a>"
      ]
    },
    {
      "cell_type": "code",
      "execution_count": 512,
      "metadata": {
        "id": "Y6abxbBknmS-"
      },
      "outputs": [],
      "source": [
        "import pandas as pd\n",
        "import seaborn as sns\n",
        "import numpy as np\n",
        "from sklearn.linear_model import LinearRegression\n",
        "from sklearn.preprocessing import LabelEncoder , OneHotEncoder , LabelBinarizer\n",
        "from sklearn.preprocessing import PolynomialFeatures\n",
        "from sklearn.model_selection import train_test_split\n",
        "from sklearn.base import BaseEstimator,TransformerMixin\n",
        "from sklearn.pipeline import Pipeline\n",
        "from sklearn.compose import ColumnTransformer\n",
        "from sklearn.impute import SimpleImputer\n",
        "from sklearn.preprocessing import MinMaxScaler,StandardScaler\n",
        "from sklearn.metrics import mean_squared_error\n",
        "from sklearn.metrics import r2_score"
      ]
    },
    {
      "cell_type": "code",
      "source": [
        "raw_data = pd.read_csv('/content/drive/MyDrive/DataScience/House_price_prediction/housing.csv')\n",
        "train_data , test_data = train_test_split(raw_data,test_size=0.2 , random_state=24)\n",
        "\n",
        "train_data.shape , test_data.shape"
      ],
      "metadata": {
        "colab": {
          "base_uri": "https://localhost:8080/"
        },
        "id": "BligrMC2nxSo",
        "outputId": "ec28ef58-9969-44bd-eba1-865d2aee079b"
      },
      "execution_count": 513,
      "outputs": [
        {
          "output_type": "execute_result",
          "data": {
            "text/plain": [
              "((16512, 10), (4128, 10))"
            ]
          },
          "metadata": {},
          "execution_count": 513
        }
      ]
    },
    {
      "cell_type": "code",
      "source": [
        "train_data.columns"
      ],
      "metadata": {
        "colab": {
          "base_uri": "https://localhost:8080/"
        },
        "id": "G6U6mAOaoPni",
        "outputId": "0283de9c-4bec-478b-bcc5-6764d1738a84"
      },
      "execution_count": 514,
      "outputs": [
        {
          "output_type": "execute_result",
          "data": {
            "text/plain": [
              "Index(['longitude', 'latitude', 'housing_median_age', 'total_rooms',\n",
              "       'total_bedrooms', 'population', 'households', 'median_income',\n",
              "       'median_house_value', 'ocean_proximity'],\n",
              "      dtype='object')"
            ]
          },
          "metadata": {},
          "execution_count": 514
        }
      ]
    },
    {
      "cell_type": "code",
      "source": [
        "train_data.describe()"
      ],
      "metadata": {
        "colab": {
          "base_uri": "https://localhost:8080/",
          "height": 300
        },
        "id": "926Es2CdoWb3",
        "outputId": "bcbca94e-1017-45cb-fd24-eb4679d52cb2"
      },
      "execution_count": 515,
      "outputs": [
        {
          "output_type": "execute_result",
          "data": {
            "text/plain": [
              "          longitude      latitude  housing_median_age   total_rooms  \\\n",
              "count  16512.000000  16512.000000        16512.000000  16512.000000   \n",
              "mean    -119.566916     35.632673           28.628815   2631.201369   \n",
              "std        1.996005      2.133147           12.597418   2181.741325   \n",
              "min     -124.350000     32.540000            1.000000      2.000000   \n",
              "25%     -121.770000     33.937500           18.000000   1441.750000   \n",
              "50%     -118.500000     34.260000           29.000000   2122.000000   \n",
              "75%     -118.010000     37.720000           37.000000   3141.250000   \n",
              "max     -114.310000     41.950000           52.000000  39320.000000   \n",
              "\n",
              "       total_bedrooms    population    households  median_income  \\\n",
              "count    16348.000000  16512.000000  16512.000000   16512.000000   \n",
              "mean       536.264803   1420.585816    498.319949       3.873669   \n",
              "std        421.162159   1135.287024    382.250933       1.899005   \n",
              "min          1.000000      3.000000      1.000000       0.499900   \n",
              "25%        295.000000    782.000000    278.000000       2.562500   \n",
              "50%        433.000000   1163.500000    408.000000       3.539100   \n",
              "75%        644.000000   1721.250000    602.000000       4.752200   \n",
              "max       6445.000000  35682.000000   6082.000000      15.000100   \n",
              "\n",
              "       median_house_value  \n",
              "count        16512.000000  \n",
              "mean        206673.817648  \n",
              "std         115465.881796  \n",
              "min          14999.000000  \n",
              "25%         119500.000000  \n",
              "50%         179450.000000  \n",
              "75%         264500.000000  \n",
              "max         500001.000000  "
            ],
            "text/html": [
              "\n",
              "  <div id=\"df-e789969e-c6e8-4727-8bcc-7ca37567198c\" class=\"colab-df-container\">\n",
              "    <div>\n",
              "<style scoped>\n",
              "    .dataframe tbody tr th:only-of-type {\n",
              "        vertical-align: middle;\n",
              "    }\n",
              "\n",
              "    .dataframe tbody tr th {\n",
              "        vertical-align: top;\n",
              "    }\n",
              "\n",
              "    .dataframe thead th {\n",
              "        text-align: right;\n",
              "    }\n",
              "</style>\n",
              "<table border=\"1\" class=\"dataframe\">\n",
              "  <thead>\n",
              "    <tr style=\"text-align: right;\">\n",
              "      <th></th>\n",
              "      <th>longitude</th>\n",
              "      <th>latitude</th>\n",
              "      <th>housing_median_age</th>\n",
              "      <th>total_rooms</th>\n",
              "      <th>total_bedrooms</th>\n",
              "      <th>population</th>\n",
              "      <th>households</th>\n",
              "      <th>median_income</th>\n",
              "      <th>median_house_value</th>\n",
              "    </tr>\n",
              "  </thead>\n",
              "  <tbody>\n",
              "    <tr>\n",
              "      <th>count</th>\n",
              "      <td>16512.000000</td>\n",
              "      <td>16512.000000</td>\n",
              "      <td>16512.000000</td>\n",
              "      <td>16512.000000</td>\n",
              "      <td>16348.000000</td>\n",
              "      <td>16512.000000</td>\n",
              "      <td>16512.000000</td>\n",
              "      <td>16512.000000</td>\n",
              "      <td>16512.000000</td>\n",
              "    </tr>\n",
              "    <tr>\n",
              "      <th>mean</th>\n",
              "      <td>-119.566916</td>\n",
              "      <td>35.632673</td>\n",
              "      <td>28.628815</td>\n",
              "      <td>2631.201369</td>\n",
              "      <td>536.264803</td>\n",
              "      <td>1420.585816</td>\n",
              "      <td>498.319949</td>\n",
              "      <td>3.873669</td>\n",
              "      <td>206673.817648</td>\n",
              "    </tr>\n",
              "    <tr>\n",
              "      <th>std</th>\n",
              "      <td>1.996005</td>\n",
              "      <td>2.133147</td>\n",
              "      <td>12.597418</td>\n",
              "      <td>2181.741325</td>\n",
              "      <td>421.162159</td>\n",
              "      <td>1135.287024</td>\n",
              "      <td>382.250933</td>\n",
              "      <td>1.899005</td>\n",
              "      <td>115465.881796</td>\n",
              "    </tr>\n",
              "    <tr>\n",
              "      <th>min</th>\n",
              "      <td>-124.350000</td>\n",
              "      <td>32.540000</td>\n",
              "      <td>1.000000</td>\n",
              "      <td>2.000000</td>\n",
              "      <td>1.000000</td>\n",
              "      <td>3.000000</td>\n",
              "      <td>1.000000</td>\n",
              "      <td>0.499900</td>\n",
              "      <td>14999.000000</td>\n",
              "    </tr>\n",
              "    <tr>\n",
              "      <th>25%</th>\n",
              "      <td>-121.770000</td>\n",
              "      <td>33.937500</td>\n",
              "      <td>18.000000</td>\n",
              "      <td>1441.750000</td>\n",
              "      <td>295.000000</td>\n",
              "      <td>782.000000</td>\n",
              "      <td>278.000000</td>\n",
              "      <td>2.562500</td>\n",
              "      <td>119500.000000</td>\n",
              "    </tr>\n",
              "    <tr>\n",
              "      <th>50%</th>\n",
              "      <td>-118.500000</td>\n",
              "      <td>34.260000</td>\n",
              "      <td>29.000000</td>\n",
              "      <td>2122.000000</td>\n",
              "      <td>433.000000</td>\n",
              "      <td>1163.500000</td>\n",
              "      <td>408.000000</td>\n",
              "      <td>3.539100</td>\n",
              "      <td>179450.000000</td>\n",
              "    </tr>\n",
              "    <tr>\n",
              "      <th>75%</th>\n",
              "      <td>-118.010000</td>\n",
              "      <td>37.720000</td>\n",
              "      <td>37.000000</td>\n",
              "      <td>3141.250000</td>\n",
              "      <td>644.000000</td>\n",
              "      <td>1721.250000</td>\n",
              "      <td>602.000000</td>\n",
              "      <td>4.752200</td>\n",
              "      <td>264500.000000</td>\n",
              "    </tr>\n",
              "    <tr>\n",
              "      <th>max</th>\n",
              "      <td>-114.310000</td>\n",
              "      <td>41.950000</td>\n",
              "      <td>52.000000</td>\n",
              "      <td>39320.000000</td>\n",
              "      <td>6445.000000</td>\n",
              "      <td>35682.000000</td>\n",
              "      <td>6082.000000</td>\n",
              "      <td>15.000100</td>\n",
              "      <td>500001.000000</td>\n",
              "    </tr>\n",
              "  </tbody>\n",
              "</table>\n",
              "</div>\n",
              "    <div class=\"colab-df-buttons\">\n",
              "\n",
              "  <div class=\"colab-df-container\">\n",
              "    <button class=\"colab-df-convert\" onclick=\"convertToInteractive('df-e789969e-c6e8-4727-8bcc-7ca37567198c')\"\n",
              "            title=\"Convert this dataframe to an interactive table.\"\n",
              "            style=\"display:none;\">\n",
              "\n",
              "  <svg xmlns=\"http://www.w3.org/2000/svg\" height=\"24px\" viewBox=\"0 -960 960 960\">\n",
              "    <path d=\"M120-120v-720h720v720H120Zm60-500h600v-160H180v160Zm220 220h160v-160H400v160Zm0 220h160v-160H400v160ZM180-400h160v-160H180v160Zm440 0h160v-160H620v160ZM180-180h160v-160H180v160Zm440 0h160v-160H620v160Z\"/>\n",
              "  </svg>\n",
              "    </button>\n",
              "\n",
              "  <style>\n",
              "    .colab-df-container {\n",
              "      display:flex;\n",
              "      gap: 12px;\n",
              "    }\n",
              "\n",
              "    .colab-df-convert {\n",
              "      background-color: #E8F0FE;\n",
              "      border: none;\n",
              "      border-radius: 50%;\n",
              "      cursor: pointer;\n",
              "      display: none;\n",
              "      fill: #1967D2;\n",
              "      height: 32px;\n",
              "      padding: 0 0 0 0;\n",
              "      width: 32px;\n",
              "    }\n",
              "\n",
              "    .colab-df-convert:hover {\n",
              "      background-color: #E2EBFA;\n",
              "      box-shadow: 0px 1px 2px rgba(60, 64, 67, 0.3), 0px 1px 3px 1px rgba(60, 64, 67, 0.15);\n",
              "      fill: #174EA6;\n",
              "    }\n",
              "\n",
              "    .colab-df-buttons div {\n",
              "      margin-bottom: 4px;\n",
              "    }\n",
              "\n",
              "    [theme=dark] .colab-df-convert {\n",
              "      background-color: #3B4455;\n",
              "      fill: #D2E3FC;\n",
              "    }\n",
              "\n",
              "    [theme=dark] .colab-df-convert:hover {\n",
              "      background-color: #434B5C;\n",
              "      box-shadow: 0px 1px 3px 1px rgba(0, 0, 0, 0.15);\n",
              "      filter: drop-shadow(0px 1px 2px rgba(0, 0, 0, 0.3));\n",
              "      fill: #FFFFFF;\n",
              "    }\n",
              "  </style>\n",
              "\n",
              "    <script>\n",
              "      const buttonEl =\n",
              "        document.querySelector('#df-e789969e-c6e8-4727-8bcc-7ca37567198c button.colab-df-convert');\n",
              "      buttonEl.style.display =\n",
              "        google.colab.kernel.accessAllowed ? 'block' : 'none';\n",
              "\n",
              "      async function convertToInteractive(key) {\n",
              "        const element = document.querySelector('#df-e789969e-c6e8-4727-8bcc-7ca37567198c');\n",
              "        const dataTable =\n",
              "          await google.colab.kernel.invokeFunction('convertToInteractive',\n",
              "                                                    [key], {});\n",
              "        if (!dataTable) return;\n",
              "\n",
              "        const docLinkHtml = 'Like what you see? Visit the ' +\n",
              "          '<a target=\"_blank\" href=https://colab.research.google.com/notebooks/data_table.ipynb>data table notebook</a>'\n",
              "          + ' to learn more about interactive tables.';\n",
              "        element.innerHTML = '';\n",
              "        dataTable['output_type'] = 'display_data';\n",
              "        await google.colab.output.renderOutput(dataTable, element);\n",
              "        const docLink = document.createElement('div');\n",
              "        docLink.innerHTML = docLinkHtml;\n",
              "        element.appendChild(docLink);\n",
              "      }\n",
              "    </script>\n",
              "  </div>\n",
              "\n",
              "\n",
              "<div id=\"df-b7208dce-93c0-4dfe-87eb-81ece850cefd\">\n",
              "  <button class=\"colab-df-quickchart\" onclick=\"quickchart('df-b7208dce-93c0-4dfe-87eb-81ece850cefd')\"\n",
              "            title=\"Suggest charts.\"\n",
              "            style=\"display:none;\">\n",
              "\n",
              "<svg xmlns=\"http://www.w3.org/2000/svg\" height=\"24px\"viewBox=\"0 0 24 24\"\n",
              "     width=\"24px\">\n",
              "    <g>\n",
              "        <path d=\"M19 3H5c-1.1 0-2 .9-2 2v14c0 1.1.9 2 2 2h14c1.1 0 2-.9 2-2V5c0-1.1-.9-2-2-2zM9 17H7v-7h2v7zm4 0h-2V7h2v10zm4 0h-2v-4h2v4z\"/>\n",
              "    </g>\n",
              "</svg>\n",
              "  </button>\n",
              "\n",
              "<style>\n",
              "  .colab-df-quickchart {\n",
              "    background-color: #E8F0FE;\n",
              "    border: none;\n",
              "    border-radius: 50%;\n",
              "    cursor: pointer;\n",
              "    display: none;\n",
              "    fill: #1967D2;\n",
              "    height: 32px;\n",
              "    padding: 0 0 0 0;\n",
              "    width: 32px;\n",
              "  }\n",
              "\n",
              "  .colab-df-quickchart:hover {\n",
              "    background-color: #E2EBFA;\n",
              "    box-shadow: 0px 1px 2px rgba(60, 64, 67, 0.3), 0px 1px 3px 1px rgba(60, 64, 67, 0.15);\n",
              "    fill: #174EA6;\n",
              "  }\n",
              "\n",
              "  [theme=dark] .colab-df-quickchart {\n",
              "    background-color: #3B4455;\n",
              "    fill: #D2E3FC;\n",
              "  }\n",
              "\n",
              "  [theme=dark] .colab-df-quickchart:hover {\n",
              "    background-color: #434B5C;\n",
              "    box-shadow: 0px 1px 3px 1px rgba(0, 0, 0, 0.15);\n",
              "    filter: drop-shadow(0px 1px 2px rgba(0, 0, 0, 0.3));\n",
              "    fill: #FFFFFF;\n",
              "  }\n",
              "</style>\n",
              "\n",
              "  <script>\n",
              "    async function quickchart(key) {\n",
              "      const charts = await google.colab.kernel.invokeFunction(\n",
              "          'suggestCharts', [key], {});\n",
              "    }\n",
              "    (() => {\n",
              "      let quickchartButtonEl =\n",
              "        document.querySelector('#df-b7208dce-93c0-4dfe-87eb-81ece850cefd button');\n",
              "      quickchartButtonEl.style.display =\n",
              "        google.colab.kernel.accessAllowed ? 'block' : 'none';\n",
              "    })();\n",
              "  </script>\n",
              "</div>\n",
              "    </div>\n",
              "  </div>\n"
            ]
          },
          "metadata": {},
          "execution_count": 515
        }
      ]
    },
    {
      "cell_type": "code",
      "source": [
        "train_data.isna().sum()"
      ],
      "metadata": {
        "colab": {
          "base_uri": "https://localhost:8080/"
        },
        "id": "r5QhBgi2LlVQ",
        "outputId": "f3e91049-f4a8-46f2-eca9-1b8725f3d692"
      },
      "execution_count": 516,
      "outputs": [
        {
          "output_type": "execute_result",
          "data": {
            "text/plain": [
              "longitude               0\n",
              "latitude                0\n",
              "housing_median_age      0\n",
              "total_rooms             0\n",
              "total_bedrooms        164\n",
              "population              0\n",
              "households              0\n",
              "median_income           0\n",
              "median_house_value      0\n",
              "ocean_proximity         0\n",
              "dtype: int64"
            ]
          },
          "metadata": {},
          "execution_count": 516
        }
      ]
    },
    {
      "cell_type": "code",
      "source": [
        "train_data.ocean_proximity.value_counts()"
      ],
      "metadata": {
        "colab": {
          "base_uri": "https://localhost:8080/"
        },
        "id": "RTSkn2sTok5G",
        "outputId": "ccd82c14-9df0-48c0-a9db-aa96b349f96f"
      },
      "execution_count": 517,
      "outputs": [
        {
          "output_type": "execute_result",
          "data": {
            "text/plain": [
              "<1H OCEAN     7309\n",
              "INLAND        5287\n",
              "NEAR OCEAN    2092\n",
              "NEAR BAY      1820\n",
              "ISLAND           4\n",
              "Name: ocean_proximity, dtype: int64"
            ]
          },
          "metadata": {},
          "execution_count": 517
        }
      ]
    },
    {
      "cell_type": "code",
      "source": [
        "sns.heatmap(train_data.corr(),annot = True)"
      ],
      "metadata": {
        "colab": {
          "base_uri": "https://localhost:8080/",
          "height": 643
        },
        "id": "otoc9QgYo_v-",
        "outputId": "43ecd1a5-f922-4eec-fe56-68bf9154a2ed"
      },
      "execution_count": 518,
      "outputs": [
        {
          "output_type": "stream",
          "name": "stderr",
          "text": [
            "<ipython-input-518-0c2cf90a270d>:1: FutureWarning: The default value of numeric_only in DataFrame.corr is deprecated. In a future version, it will default to False. Select only valid columns or specify the value of numeric_only to silence this warning.\n",
            "  sns.heatmap(train_data.corr(),annot = True)\n"
          ]
        },
        {
          "output_type": "execute_result",
          "data": {
            "text/plain": [
              "<Axes: >"
            ]
          },
          "metadata": {},
          "execution_count": 518
        },
        {
          "output_type": "display_data",
          "data": {
            "text/plain": [
              "<Figure size 640x480 with 2 Axes>"
            ],
            "image/png": "[encoded data removed]"
          },
          "metadata": {}
        }
      ]
    },
    {
      "cell_type": "code",
      "source": [
        "class DataFrameSelector(BaseEstimator,TransformerMixin):\n",
        "  def __init__(self,attribute_names):\n",
        "    self.attribute_names=attribute_names\n",
        "  def fit(self,X,y=None):\n",
        "    return self\n",
        "  def transform(self,X,y=None):\n",
        "    return X[self.attribute_names]\n"
      ],
      "metadata": {
        "id": "CaT4f0vPNcMw"
      },
      "execution_count": 519,
      "outputs": []
    },
    {
      "cell_type": "code",
      "source": [
        "num_attributes=['longitude', 'latitude', 'housing_median_age', 'total_rooms','total_bedrooms', 'population', 'households', 'median_income']\n",
        "cat_attributes=['ocean_proximity']"
      ],
      "metadata": {
        "id": "WnDZOpjzN9_v"
      },
      "execution_count": 520,
      "outputs": []
    },
    {
      "cell_type": "code",
      "source": [
        "num_pipeline = Pipeline([\n",
        "                             ('selector',DataFrameSelector(num_attributes)),\n",
        "                             ('imputation', SimpleImputer(strategy='mean')),\n",
        "                             ('scale', StandardScaler())\n",
        "\n",
        "                        ])\n",
        "\n",
        "cat_pipeline = Pipeline([\n",
        "                             ('selector',DataFrameSelector(cat_attributes)),\n",
        "                             ('onehot', OneHotEncoder(sparse_output=False, handle_unknown='ignore')),\n",
        "\n",
        "                        ])"
      ],
      "metadata": {
        "id": "i5wbe2kNruYq"
      },
      "execution_count": 521,
      "outputs": []
    },
    {
      "cell_type": "code",
      "source": [
        "preprocess = ColumnTransformer(\n",
        "                    transformers=\n",
        "                                  [\n",
        "                                    ('num_pipeline',num_pipeline,num_attributes),\n",
        "                                    ('cat_pipeline',cat_pipeline,cat_attributes)\n",
        "                                  ]\n",
        "                              )"
      ],
      "metadata": {
        "id": "qYmi00bqpRVk"
      },
      "execution_count": 522,
      "outputs": []
    },
    {
      "cell_type": "code",
      "source": [
        "full_pipeline = Pipeline([\n",
        "         ('preprocessing',preprocess),\n",
        "         ('model',LinearRegression())\n",
        "         ])"
      ],
      "metadata": {
        "id": "vRz_klAvTsuK"
      },
      "execution_count": 523,
      "outputs": []
    },
    {
      "cell_type": "code",
      "source": [
        "from sklearn import set_config\n",
        "set_config(display='diagram')\n",
        "display(full_pipeline)"
      ],
      "metadata": {
        "colab": {
          "base_uri": "https://localhost:8080/",
          "height": 260
        },
        "id": "iHqg_O7vwLCT",
        "outputId": "4594e7ad-b7ff-49f6-ac0a-bd1ac9c1c6db"
      },
      "execution_count": 524,
      "outputs": [
        {
          "output_type": "display_data",
          "data": {
            "text/plain": [
              "Pipeline(steps=[('preprocessing',\n",
              "                 ColumnTransformer(transformers=[('num_pipeline',\n",
              "                                                  Pipeline(steps=[('selector',\n",
              "                                                                   DataFrameSelector(attribute_names=['longitude',\n",
              "                                                                                                      'latitude',\n",
              "                                                                                                      'housing_median_age',\n",
              "                                                                                                      'total_rooms',\n",
              "                                                                                                      'total_bedrooms',\n",
              "                                                                                                      'population',\n",
              "                                                                                                      'households',\n",
              "                                                                                                      'median_income'])),\n",
              "                                                                  ('imputation',\n",
              "                                                                   SimpleImputer()),\n",
              "                                                                  ('scale',\n",
              "                                                                   StandardScaler())]),\n",
              "                                                  ['longitude', 'latitude',\n",
              "                                                   'housing_median_age',\n",
              "                                                   'total_rooms',\n",
              "                                                   'total_bedrooms',\n",
              "                                                   'population', 'households',\n",
              "                                                   'median_income']),\n",
              "                                                 ('cat_pipeline',\n",
              "                                                  Pipeline(steps=[('selector',\n",
              "                                                                   DataFrameSelector(attribute_names=['ocean_proximity'])),\n",
              "                                                                  ('onehot',\n",
              "                                                                   OneHotEncoder(handle_unknown='ignore',\n",
              "                                                                                 sparse_output=False))]),\n",
              "                                                  ['ocean_proximity'])])),\n",
              "                ('model', LinearRegression())])"
            ],
            "text/html": [
              "<style>#sk-container-id-57 {color: black;background-color: white;}#sk-container-id-57 pre{padding: 0;}#sk-container-id-57 div.sk-toggleable {background-color: white;}#sk-container-id-57 label.sk-toggleable__label {cursor: pointer;display: block;width: 100%;margin-bottom: 0;padding: 0.3em;box-sizing: border-box;text-align: center;}#sk-container-id-57 label.sk-toggleable__label-arrow:before {content: \"▸\";float: left;margin-right: 0.25em;color: #696969;}#sk-container-id-57 label.sk-toggleable__label-arrow:hover:before {color: black;}#sk-container-id-57 div.sk-estimator:hover label.sk-toggleable__label-arrow:before {color: black;}#sk-container-id-57 div.sk-toggleable__content {max-height: 0;max-width: 0;overflow: hidden;text-align: left;background-color: #f0f8ff;}#sk-container-id-57 div.sk-toggleable__content pre {margin: 0.2em;color: black;border-radius: 0.25em;background-color: #f0f8ff;}#sk-container-id-57 input.sk-toggleable__control:checked~div.sk-toggleable__content {max-height: 200px;max-width: 100%;overflow: auto;}#sk-container-id-57 input.sk-toggleable__control:checked~label.sk-toggleable__label-arrow:before {content: \"▾\";}#sk-container-id-57 div.sk-estimator input.sk-toggleable__control:checked~label.sk-toggleable__label {background-color: #d4ebff;}#sk-container-id-57 div.sk-label input.sk-toggleable__control:checked~label.sk-toggleable__label {background-color: #d4ebff;}#sk-container-id-57 input.sk-hidden--visually {border: 0;clip: rect(1px 1px 1px 1px);clip: rect(1px, 1px, 1px, 1px);height: 1px;margin: -1px;overflow: hidden;padding: 0;position: absolute;width: 1px;}#sk-container-id-57 div.sk-estimator {font-family: monospace;background-color: #f0f8ff;border: 1px dotted black;border-radius: 0.25em;box-sizing: border-box;margin-bottom: 0.5em;}#sk-container-id-57 div.sk-estimator:hover {background-color: #d4ebff;}#sk-container-id-57 div.sk-parallel-item::after {content: \"\";width: 100%;border-bottom: 1px solid gray;flex-grow: 1;}#sk-container-id-57 div.sk-label:hover label.sk-toggleable__label {background-color: #d4ebff;}#sk-container-id-57 div.sk-serial::before {content: \"\";position: absolute;border-left: 1px solid gray;box-sizing: border-box;top: 0;bottom: 0;left: 50%;z-index: 0;}#sk-container-id-57 div.sk-serial {display: flex;flex-direction: column;align-items: center;background-color: white;padding-right: 0.2em;padding-left: 0.2em;position: relative;}#sk-container-id-57 div.sk-item {position: relative;z-index: 1;}#sk-container-id-57 div.sk-parallel {display: flex;align-items: stretch;justify-content: center;background-color: white;position: relative;}#sk-container-id-57 div.sk-item::before, #sk-container-id-57 div.sk-parallel-item::before {content: \"\";position: absolute;border-left: 1px solid gray;box-sizing: border-box;top: 0;bottom: 0;left: 50%;z-index: -1;}#sk-container-id-57 div.sk-parallel-item {display: flex;flex-direction: column;z-index: 1;position: relative;background-color: white;}#sk-container-id-57 div.sk-parallel-item:first-child::after {align-self: flex-end;width: 50%;}#sk-container-id-57 div.sk-parallel-item:last-child::after {align-self: flex-start;width: 50%;}#sk-container-id-57 div.sk-parallel-item:only-child::after {width: 0;}#sk-container-id-57 div.sk-dashed-wrapped {border: 1px dashed gray;margin: 0 0.4em 0.5em 0.4em;box-sizing: border-box;padding-bottom: 0.4em;background-color: white;}#sk-container-id-57 div.sk-label label {font-family: monospace;font-weight: bold;display: inline-block;line-height: 1.2em;}#sk-container-id-57 div.sk-label-container {text-align: center;}#sk-container-id-57 div.sk-container {/* jupyter's `normalize.less` sets `[hidden] { display: none; }` but bootstrap.min.css set `[hidden] { display: none !important; }` so we also need the `!important` here to be able to override the default hidden behavior on the sphinx rendered scikit-learn.org. See: https://github.com/scikit-learn/scikit-learn/issues/21755 */display: inline-block !important;position: relative;}#sk-container-id-57 div.sk-text-repr-fallback {display: none;}</style><div id=\"sk-container-id-57\" class=\"sk-top-container\"><div class=\"sk-text-repr-fallback\"><pre>Pipeline(steps=[(&#x27;preprocessing&#x27;,\n",
              "                 ColumnTransformer(transformers=[(&#x27;num_pipeline&#x27;,\n",
              "                                                  Pipeline(steps=[(&#x27;selector&#x27;,\n",
              "                                                                   DataFrameSelector(attribute_names=[&#x27;longitude&#x27;,\n",
              "                                                                                                      &#x27;latitude&#x27;,\n",
              "                                                                                                      &#x27;housing_median_age&#x27;,\n",
              "                                                                                                      &#x27;total_rooms&#x27;,\n",
              "                                                                                                      &#x27;total_bedrooms&#x27;,\n",
              "                                                                                                      &#x27;population&#x27;,\n",
              "                                                                                                      &#x27;households&#x27;,\n",
              "                                                                                                      &#x27;median_income&#x27;])),\n",
              "                                                                  (&#x27;imputation&#x27;,\n",
              "                                                                   SimpleImputer()),\n",
              "                                                                  (&#x27;scale&#x27;,\n",
              "                                                                   StandardScaler())]),\n",
              "                                                  [&#x27;longitude&#x27;, &#x27;latitude&#x27;,\n",
              "                                                   &#x27;housing_median_age&#x27;,\n",
              "                                                   &#x27;total_rooms&#x27;,\n",
              "                                                   &#x27;total_bedrooms&#x27;,\n",
              "                                                   &#x27;population&#x27;, &#x27;households&#x27;,\n",
              "                                                   &#x27;median_income&#x27;]),\n",
              "                                                 (&#x27;cat_pipeline&#x27;,\n",
              "                                                  Pipeline(steps=[(&#x27;selector&#x27;,\n",
              "                                                                   DataFrameSelector(attribute_names=[&#x27;ocean_proximity&#x27;])),\n",
              "                                                                  (&#x27;onehot&#x27;,\n",
              "                                                                   OneHotEncoder(handle_unknown=&#x27;ignore&#x27;,\n",
              "                                                                                 sparse_output=False))]),\n",
              "                                                  [&#x27;ocean_proximity&#x27;])])),\n",
              "                (&#x27;model&#x27;, LinearRegression())])</pre><b>In a Jupyter environment, please rerun this cell to show the HTML representation or trust the notebook. <br />On GitHub, the HTML representation is unable to render, please try loading this page with nbviewer.org.</b></div><div class=\"sk-container\" hidden><div class=\"sk-item sk-dashed-wrapped\"><div class=\"sk-label-container\"><div class=\"sk-label sk-toggleable\"><input class=\"sk-toggleable__control sk-hidden--visually\" id=\"sk-estimator-id-340\" type=\"checkbox\" ><label for=\"sk-estimator-id-340\" class=\"sk-toggleable__label sk-toggleable__label-arrow\">Pipeline</label><div class=\"sk-toggleable__content\"><pre>Pipeline(steps=[(&#x27;preprocessing&#x27;,\n",
              "                 ColumnTransformer(transformers=[(&#x27;num_pipeline&#x27;,\n",
              "                                                  Pipeline(steps=[(&#x27;selector&#x27;,\n",
              "                                                                   DataFrameSelector(attribute_names=[&#x27;longitude&#x27;,\n",
              "                                                                                                      &#x27;latitude&#x27;,\n",
              "                                                                                                      &#x27;housing_median_age&#x27;,\n",
              "                                                                                                      &#x27;total_rooms&#x27;,\n",
              "                                                                                                      &#x27;total_bedrooms&#x27;,\n",
              "                                                                                                      &#x27;population&#x27;,\n",
              "                                                                                                      &#x27;households&#x27;,\n",
              "                                                                                                      &#x27;median_income&#x27;])),\n",
              "                                                                  (&#x27;imputation&#x27;,\n",
              "                                                                   SimpleImputer()),\n",
              "                                                                  (&#x27;scale&#x27;,\n",
              "                                                                   StandardScaler())]),\n",
              "                                                  [&#x27;longitude&#x27;, &#x27;latitude&#x27;,\n",
              "                                                   &#x27;housing_median_age&#x27;,\n",
              "                                                   &#x27;total_rooms&#x27;,\n",
              "                                                   &#x27;total_bedrooms&#x27;,\n",
              "                                                   &#x27;population&#x27;, &#x27;households&#x27;,\n",
              "                                                   &#x27;median_income&#x27;]),\n",
              "                                                 (&#x27;cat_pipeline&#x27;,\n",
              "                                                  Pipeline(steps=[(&#x27;selector&#x27;,\n",
              "                                                                   DataFrameSelector(attribute_names=[&#x27;ocean_proximity&#x27;])),\n",
              "                                                                  (&#x27;onehot&#x27;,\n",
              "                                                                   OneHotEncoder(handle_unknown=&#x27;ignore&#x27;,\n",
              "                                                                                 sparse_output=False))]),\n",
              "                                                  [&#x27;ocean_proximity&#x27;])])),\n",
              "                (&#x27;model&#x27;, LinearRegression())])</pre></div></div></div><div class=\"sk-serial\"><div class=\"sk-item sk-dashed-wrapped\"><div class=\"sk-label-container\"><div class=\"sk-label sk-toggleable\"><input class=\"sk-toggleable__control sk-hidden--visually\" id=\"sk-estimator-id-341\" type=\"checkbox\" ><label for=\"sk-estimator-id-341\" class=\"sk-toggleable__label sk-toggleable__label-arrow\">preprocessing: ColumnTransformer</label><div class=\"sk-toggleable__content\"><pre>ColumnTransformer(transformers=[(&#x27;num_pipeline&#x27;,\n",
              "                                 Pipeline(steps=[(&#x27;selector&#x27;,\n",
              "                                                  DataFrameSelector(attribute_names=[&#x27;longitude&#x27;,\n",
              "                                                                                     &#x27;latitude&#x27;,\n",
              "                                                                                     &#x27;housing_median_age&#x27;,\n",
              "                                                                                     &#x27;total_rooms&#x27;,\n",
              "                                                                                     &#x27;total_bedrooms&#x27;,\n",
              "                                                                                     &#x27;population&#x27;,\n",
              "                                                                                     &#x27;households&#x27;,\n",
              "                                                                                     &#x27;median_income&#x27;])),\n",
              "                                                 (&#x27;imputation&#x27;,\n",
              "                                                  SimpleImputer()),\n",
              "                                                 (&#x27;scale&#x27;, StandardScaler())]),\n",
              "                                 [&#x27;longitude&#x27;, &#x27;latitude&#x27;, &#x27;housing_median_age&#x27;,\n",
              "                                  &#x27;total_rooms&#x27;, &#x27;total_bedrooms&#x27;, &#x27;population&#x27;,\n",
              "                                  &#x27;households&#x27;, &#x27;median_income&#x27;]),\n",
              "                                (&#x27;cat_pipeline&#x27;,\n",
              "                                 Pipeline(steps=[(&#x27;selector&#x27;,\n",
              "                                                  DataFrameSelector(attribute_names=[&#x27;ocean_proximity&#x27;])),\n",
              "                                                 (&#x27;onehot&#x27;,\n",
              "                                                  OneHotEncoder(handle_unknown=&#x27;ignore&#x27;,\n",
              "                                                                sparse_output=False))]),\n",
              "                                 [&#x27;ocean_proximity&#x27;])])</pre></div></div></div><div class=\"sk-parallel\"><div class=\"sk-parallel-item\"><div class=\"sk-item\"><div class=\"sk-label-container\"><div class=\"sk-label sk-toggleable\"><input class=\"sk-toggleable__control sk-hidden--visually\" id=\"sk-estimator-id-342\" type=\"checkbox\" ><label for=\"sk-estimator-id-342\" class=\"sk-toggleable__label sk-toggleable__label-arrow\">num_pipeline</label><div class=\"sk-toggleable__content\"><pre>[&#x27;longitude&#x27;, &#x27;latitude&#x27;, &#x27;housing_median_age&#x27;, &#x27;total_rooms&#x27;, &#x27;total_bedrooms&#x27;, &#x27;population&#x27;, &#x27;households&#x27;, &#x27;median_income&#x27;]</pre></div></div></div><div class=\"sk-serial\"><div class=\"sk-item\"><div class=\"sk-serial\"><div class=\"sk-item\"><div class=\"sk-estimator sk-toggleable\"><input class=\"sk-toggleable__control sk-hidden--visually\" id=\"sk-estimator-id-343\" type=\"checkbox\" ><label for=\"sk-estimator-id-343\" class=\"sk-toggleable__label sk-toggleable__label-arrow\">DataFrameSelector</label><div class=\"sk-toggleable__content\"><pre>DataFrameSelector(attribute_names=[&#x27;longitude&#x27;, &#x27;latitude&#x27;,\n",
              "                                   &#x27;housing_median_age&#x27;, &#x27;total_rooms&#x27;,\n",
              "                                   &#x27;total_bedrooms&#x27;, &#x27;population&#x27;, &#x27;households&#x27;,\n",
              "                                   &#x27;median_income&#x27;])</pre></div></div></div><div class=\"sk-item\"><div class=\"sk-estimator sk-toggleable\"><input class=\"sk-toggleable__control sk-hidden--visually\" id=\"sk-estimator-id-344\" type=\"checkbox\" ><label for=\"sk-estimator-id-344\" class=\"sk-toggleable__label sk-toggleable__label-arrow\">SimpleImputer</label><div class=\"sk-toggleable__content\"><pre>SimpleImputer()</pre></div></div></div><div class=\"sk-item\"><div class=\"sk-estimator sk-toggleable\"><input class=\"sk-toggleable__control sk-hidden--visually\" id=\"sk-estimator-id-345\" type=\"checkbox\" ><label for=\"sk-estimator-id-345\" class=\"sk-toggleable__label sk-toggleable__label-arrow\">StandardScaler</label><div class=\"sk-toggleable__content\"><pre>StandardScaler()</pre></div></div></div></div></div></div></div></div><div class=\"sk-parallel-item\"><div class=\"sk-item\"><div class=\"sk-label-container\"><div class=\"sk-label sk-toggleable\"><input class=\"sk-toggleable__control sk-hidden--visually\" id=\"sk-estimator-id-346\" type=\"checkbox\" ><label for=\"sk-estimator-id-346\" class=\"sk-toggleable__label sk-toggleable__label-arrow\">cat_pipeline</label><div class=\"sk-toggleable__content\"><pre>[&#x27;ocean_proximity&#x27;]</pre></div></div></div><div class=\"sk-serial\"><div class=\"sk-item\"><div class=\"sk-serial\"><div class=\"sk-item\"><div class=\"sk-estimator sk-toggleable\"><input class=\"sk-toggleable__control sk-hidden--visually\" id=\"sk-estimator-id-347\" type=\"checkbox\" ><label for=\"sk-estimator-id-347\" class=\"sk-toggleable__label sk-toggleable__label-arrow\">DataFrameSelector</label><div class=\"sk-toggleable__content\"><pre>DataFrameSelector(attribute_names=[&#x27;ocean_proximity&#x27;])</pre></div></div></div><div class=\"sk-item\"><div class=\"sk-estimator sk-toggleable\"><input class=\"sk-toggleable__control sk-hidden--visually\" id=\"sk-estimator-id-348\" type=\"checkbox\" ><label for=\"sk-estimator-id-348\" class=\"sk-toggleable__label sk-toggleable__label-arrow\">OneHotEncoder</label><div class=\"sk-toggleable__content\"><pre>OneHotEncoder(handle_unknown=&#x27;ignore&#x27;, sparse_output=False)</pre></div></div></div></div></div></div></div></div></div></div><div class=\"sk-item\"><div class=\"sk-estimator sk-toggleable\"><input class=\"sk-toggleable__control sk-hidden--visually\" id=\"sk-estimator-id-349\" type=\"checkbox\" ><label for=\"sk-estimator-id-349\" class=\"sk-toggleable__label sk-toggleable__label-arrow\">LinearRegression</label><div class=\"sk-toggleable__content\"><pre>LinearRegression()</pre></div></div></div></div></div></div></div>"
            ]
          },
          "metadata": {}
        }
      ]
    },
    {
      "cell_type": "code",
      "source": [
        "full_pipeline.fit(train_data,y=train_data[['median_house_value']])"
      ],
      "metadata": {
        "colab": {
          "base_uri": "https://localhost:8080/",
          "height": 260
        },
        "id": "zbjvsSS0zT51",
        "outputId": "72fe056f-f54d-4365-884c-26e1b02caf13"
      },
      "execution_count": 525,
      "outputs": [
        {
          "output_type": "execute_result",
          "data": {
            "text/plain": [
              "Pipeline(steps=[('preprocessing',\n",
              "                 ColumnTransformer(transformers=[('num_pipeline',\n",
              "                                                  Pipeline(steps=[('selector',\n",
              "                                                                   DataFrameSelector(attribute_names=['longitude',\n",
              "                                                                                                      'latitude',\n",
              "                                                                                                      'housing_median_age',\n",
              "                                                                                                      'total_rooms',\n",
              "                                                                                                      'total_bedrooms',\n",
              "                                                                                                      'population',\n",
              "                                                                                                      'households',\n",
              "                                                                                                      'median_income'])),\n",
              "                                                                  ('imputation',\n",
              "                                                                   SimpleImputer()),\n",
              "                                                                  ('scale',\n",
              "                                                                   StandardScaler())]),\n",
              "                                                  ['longitude', 'latitude',\n",
              "                                                   'housing_median_age',\n",
              "                                                   'total_rooms',\n",
              "                                                   'total_bedrooms',\n",
              "                                                   'population', 'households',\n",
              "                                                   'median_income']),\n",
              "                                                 ('cat_pipeline',\n",
              "                                                  Pipeline(steps=[('selector',\n",
              "                                                                   DataFrameSelector(attribute_names=['ocean_proximity'])),\n",
              "                                                                  ('onehot',\n",
              "                                                                   OneHotEncoder(handle_unknown='ignore',\n",
              "                                                                                 sparse_output=False))]),\n",
              "                                                  ['ocean_proximity'])])),\n",
              "                ('model', LinearRegression())])"
            ],
            "text/html": [
              "<style>#sk-container-id-58 {color: black;background-color: white;}#sk-container-id-58 pre{padding: 0;}#sk-container-id-58 div.sk-toggleable {background-color: white;}#sk-container-id-58 label.sk-toggleable__label {cursor: pointer;display: block;width: 100%;margin-bottom: 0;padding: 0.3em;box-sizing: border-box;text-align: center;}#sk-container-id-58 label.sk-toggleable__label-arrow:before {content: \"▸\";float: left;margin-right: 0.25em;color: #696969;}#sk-container-id-58 label.sk-toggleable__label-arrow:hover:before {color: black;}#sk-container-id-58 div.sk-estimator:hover label.sk-toggleable__label-arrow:before {color: black;}#sk-container-id-58 div.sk-toggleable__content {max-height: 0;max-width: 0;overflow: hidden;text-align: left;background-color: #f0f8ff;}#sk-container-id-58 div.sk-toggleable__content pre {margin: 0.2em;color: black;border-radius: 0.25em;background-color: #f0f8ff;}#sk-container-id-58 input.sk-toggleable__control:checked~div.sk-toggleable__content {max-height: 200px;max-width: 100%;overflow: auto;}#sk-container-id-58 input.sk-toggleable__control:checked~label.sk-toggleable__label-arrow:before {content: \"▾\";}#sk-container-id-58 div.sk-estimator input.sk-toggleable__control:checked~label.sk-toggleable__label {background-color: #d4ebff;}#sk-container-id-58 div.sk-label input.sk-toggleable__control:checked~label.sk-toggleable__label {background-color: #d4ebff;}#sk-container-id-58 input.sk-hidden--visually {border: 0;clip: rect(1px 1px 1px 1px);clip: rect(1px, 1px, 1px, 1px);height: 1px;margin: -1px;overflow: hidden;padding: 0;position: absolute;width: 1px;}#sk-container-id-58 div.sk-estimator {font-family: monospace;background-color: #f0f8ff;border: 1px dotted black;border-radius: 0.25em;box-sizing: border-box;margin-bottom: 0.5em;}#sk-container-id-58 div.sk-estimator:hover {background-color: #d4ebff;}#sk-container-id-58 div.sk-parallel-item::after {content: \"\";width: 100%;border-bottom: 1px solid gray;flex-grow: 1;}#sk-container-id-58 div.sk-label:hover label.sk-toggleable__label {background-color: #d4ebff;}#sk-container-id-58 div.sk-serial::before {content: \"\";position: absolute;border-left: 1px solid gray;box-sizing: border-box;top: 0;bottom: 0;left: 50%;z-index: 0;}#sk-container-id-58 div.sk-serial {display: flex;flex-direction: column;align-items: center;background-color: white;padding-right: 0.2em;padding-left: 0.2em;position: relative;}#sk-container-id-58 div.sk-item {position: relative;z-index: 1;}#sk-container-id-58 div.sk-parallel {display: flex;align-items: stretch;justify-content: center;background-color: white;position: relative;}#sk-container-id-58 div.sk-item::before, #sk-container-id-58 div.sk-parallel-item::before {content: \"\";position: absolute;border-left: 1px solid gray;box-sizing: border-box;top: 0;bottom: 0;left: 50%;z-index: -1;}#sk-container-id-58 div.sk-parallel-item {display: flex;flex-direction: column;z-index: 1;position: relative;background-color: white;}#sk-container-id-58 div.sk-parallel-item:first-child::after {align-self: flex-end;width: 50%;}#sk-container-id-58 div.sk-parallel-item:last-child::after {align-self: flex-start;width: 50%;}#sk-container-id-58 div.sk-parallel-item:only-child::after {width: 0;}#sk-container-id-58 div.sk-dashed-wrapped {border: 1px dashed gray;margin: 0 0.4em 0.5em 0.4em;box-sizing: border-box;padding-bottom: 0.4em;background-color: white;}#sk-container-id-58 div.sk-label label {font-family: monospace;font-weight: bold;display: inline-block;line-height: 1.2em;}#sk-container-id-58 div.sk-label-container {text-align: center;}#sk-container-id-58 div.sk-container {/* jupyter's `normalize.less` sets `[hidden] { display: none; }` but bootstrap.min.css set `[hidden] { display: none !important; }` so we also need the `!important` here to be able to override the default hidden behavior on the sphinx rendered scikit-learn.org. See: https://github.com/scikit-learn/scikit-learn/issues/21755 */display: inline-block !important;position: relative;}#sk-container-id-58 div.sk-text-repr-fallback {display: none;}</style><div id=\"sk-container-id-58\" class=\"sk-top-container\"><div class=\"sk-text-repr-fallback\"><pre>Pipeline(steps=[(&#x27;preprocessing&#x27;,\n",
              "                 ColumnTransformer(transformers=[(&#x27;num_pipeline&#x27;,\n",
              "                                                  Pipeline(steps=[(&#x27;selector&#x27;,\n",
              "                                                                   DataFrameSelector(attribute_names=[&#x27;longitude&#x27;,\n",
              "                                                                                                      &#x27;latitude&#x27;,\n",
              "                                                                                                      &#x27;housing_median_age&#x27;,\n",
              "                                                                                                      &#x27;total_rooms&#x27;,\n",
              "                                                                                                      &#x27;total_bedrooms&#x27;,\n",
              "                                                                                                      &#x27;population&#x27;,\n",
              "                                                                                                      &#x27;households&#x27;,\n",
              "                                                                                                      &#x27;median_income&#x27;])),\n",
              "                                                                  (&#x27;imputation&#x27;,\n",
              "                                                                   SimpleImputer()),\n",
              "                                                                  (&#x27;scale&#x27;,\n",
              "                                                                   StandardScaler())]),\n",
              "                                                  [&#x27;longitude&#x27;, &#x27;latitude&#x27;,\n",
              "                                                   &#x27;housing_median_age&#x27;,\n",
              "                                                   &#x27;total_rooms&#x27;,\n",
              "                                                   &#x27;total_bedrooms&#x27;,\n",
              "                                                   &#x27;population&#x27;, &#x27;households&#x27;,\n",
              "                                                   &#x27;median_income&#x27;]),\n",
              "                                                 (&#x27;cat_pipeline&#x27;,\n",
              "                                                  Pipeline(steps=[(&#x27;selector&#x27;,\n",
              "                                                                   DataFrameSelector(attribute_names=[&#x27;ocean_proximity&#x27;])),\n",
              "                                                                  (&#x27;onehot&#x27;,\n",
              "                                                                   OneHotEncoder(handle_unknown=&#x27;ignore&#x27;,\n",
              "                                                                                 sparse_output=False))]),\n",
              "                                                  [&#x27;ocean_proximity&#x27;])])),\n",
              "                (&#x27;model&#x27;, LinearRegression())])</pre><b>In a Jupyter environment, please rerun this cell to show the HTML representation or trust the notebook. <br />On GitHub, the HTML representation is unable to render, please try loading this page with nbviewer.org.</b></div><div class=\"sk-container\" hidden><div class=\"sk-item sk-dashed-wrapped\"><div class=\"sk-label-container\"><div class=\"sk-label sk-toggleable\"><input class=\"sk-toggleable__control sk-hidden--visually\" id=\"sk-estimator-id-350\" type=\"checkbox\" ><label for=\"sk-estimator-id-350\" class=\"sk-toggleable__label sk-toggleable__label-arrow\">Pipeline</label><div class=\"sk-toggleable__content\"><pre>Pipeline(steps=[(&#x27;preprocessing&#x27;,\n",
              "                 ColumnTransformer(transformers=[(&#x27;num_pipeline&#x27;,\n",
              "                                                  Pipeline(steps=[(&#x27;selector&#x27;,\n",
              "                                                                   DataFrameSelector(attribute_names=[&#x27;longitude&#x27;,\n",
              "                                                                                                      &#x27;latitude&#x27;,\n",
              "                                                                                                      &#x27;housing_median_age&#x27;,\n",
              "                                                                                                      &#x27;total_rooms&#x27;,\n",
              "                                                                                                      &#x27;total_bedrooms&#x27;,\n",
              "                                                                                                      &#x27;population&#x27;,\n",
              "                                                                                                      &#x27;households&#x27;,\n",
              "                                                                                                      &#x27;median_income&#x27;])),\n",
              "                                                                  (&#x27;imputation&#x27;,\n",
              "                                                                   SimpleImputer()),\n",
              "                                                                  (&#x27;scale&#x27;,\n",
              "                                                                   StandardScaler())]),\n",
              "                                                  [&#x27;longitude&#x27;, &#x27;latitude&#x27;,\n",
              "                                                   &#x27;housing_median_age&#x27;,\n",
              "                                                   &#x27;total_rooms&#x27;,\n",
              "                                                   &#x27;total_bedrooms&#x27;,\n",
              "                                                   &#x27;population&#x27;, &#x27;households&#x27;,\n",
              "                                                   &#x27;median_income&#x27;]),\n",
              "                                                 (&#x27;cat_pipeline&#x27;,\n",
              "                                                  Pipeline(steps=[(&#x27;selector&#x27;,\n",
              "                                                                   DataFrameSelector(attribute_names=[&#x27;ocean_proximity&#x27;])),\n",
              "                                                                  (&#x27;onehot&#x27;,\n",
              "                                                                   OneHotEncoder(handle_unknown=&#x27;ignore&#x27;,\n",
              "                                                                                 sparse_output=False))]),\n",
              "                                                  [&#x27;ocean_proximity&#x27;])])),\n",
              "                (&#x27;model&#x27;, LinearRegression())])</pre></div></div></div><div class=\"sk-serial\"><div class=\"sk-item sk-dashed-wrapped\"><div class=\"sk-label-container\"><div class=\"sk-label sk-toggleable\"><input class=\"sk-toggleable__control sk-hidden--visually\" id=\"sk-estimator-id-351\" type=\"checkbox\" ><label for=\"sk-estimator-id-351\" class=\"sk-toggleable__label sk-toggleable__label-arrow\">preprocessing: ColumnTransformer</label><div class=\"sk-toggleable__content\"><pre>ColumnTransformer(transformers=[(&#x27;num_pipeline&#x27;,\n",
              "                                 Pipeline(steps=[(&#x27;selector&#x27;,\n",
              "                                                  DataFrameSelector(attribute_names=[&#x27;longitude&#x27;,\n",
              "                                                                                     &#x27;latitude&#x27;,\n",
              "                                                                                     &#x27;housing_median_age&#x27;,\n",
              "                                                                                     &#x27;total_rooms&#x27;,\n",
              "                                                                                     &#x27;total_bedrooms&#x27;,\n",
              "                                                                                     &#x27;population&#x27;,\n",
              "                                                                                     &#x27;households&#x27;,\n",
              "                                                                                     &#x27;median_income&#x27;])),\n",
              "                                                 (&#x27;imputation&#x27;,\n",
              "                                                  SimpleImputer()),\n",
              "                                                 (&#x27;scale&#x27;, StandardScaler())]),\n",
              "                                 [&#x27;longitude&#x27;, &#x27;latitude&#x27;, &#x27;housing_median_age&#x27;,\n",
              "                                  &#x27;total_rooms&#x27;, &#x27;total_bedrooms&#x27;, &#x27;population&#x27;,\n",
              "                                  &#x27;households&#x27;, &#x27;median_income&#x27;]),\n",
              "                                (&#x27;cat_pipeline&#x27;,\n",
              "                                 Pipeline(steps=[(&#x27;selector&#x27;,\n",
              "                                                  DataFrameSelector(attribute_names=[&#x27;ocean_proximity&#x27;])),\n",
              "                                                 (&#x27;onehot&#x27;,\n",
              "                                                  OneHotEncoder(handle_unknown=&#x27;ignore&#x27;,\n",
              "                                                                sparse_output=False))]),\n",
              "                                 [&#x27;ocean_proximity&#x27;])])</pre></div></div></div><div class=\"sk-parallel\"><div class=\"sk-parallel-item\"><div class=\"sk-item\"><div class=\"sk-label-container\"><div class=\"sk-label sk-toggleable\"><input class=\"sk-toggleable__control sk-hidden--visually\" id=\"sk-estimator-id-352\" type=\"checkbox\" ><label for=\"sk-estimator-id-352\" class=\"sk-toggleable__label sk-toggleable__label-arrow\">num_pipeline</label><div class=\"sk-toggleable__content\"><pre>[&#x27;longitude&#x27;, &#x27;latitude&#x27;, &#x27;housing_median_age&#x27;, &#x27;total_rooms&#x27;, &#x27;total_bedrooms&#x27;, &#x27;population&#x27;, &#x27;households&#x27;, &#x27;median_income&#x27;]</pre></div></div></div><div class=\"sk-serial\"><div class=\"sk-item\"><div class=\"sk-serial\"><div class=\"sk-item\"><div class=\"sk-estimator sk-toggleable\"><input class=\"sk-toggleable__control sk-hidden--visually\" id=\"sk-estimator-id-353\" type=\"checkbox\" ><label for=\"sk-estimator-id-353\" class=\"sk-toggleable__label sk-toggleable__label-arrow\">DataFrameSelector</label><div class=\"sk-toggleable__content\"><pre>DataFrameSelector(attribute_names=[&#x27;longitude&#x27;, &#x27;latitude&#x27;,\n",
              "                                   &#x27;housing_median_age&#x27;, &#x27;total_rooms&#x27;,\n",
              "                                   &#x27;total_bedrooms&#x27;, &#x27;population&#x27;, &#x27;households&#x27;,\n",
              "                                   &#x27;median_income&#x27;])</pre></div></div></div><div class=\"sk-item\"><div class=\"sk-estimator sk-toggleable\"><input class=\"sk-toggleable__control sk-hidden--visually\" id=\"sk-estimator-id-354\" type=\"checkbox\" ><label for=\"sk-estimator-id-354\" class=\"sk-toggleable__label sk-toggleable__label-arrow\">SimpleImputer</label><div class=\"sk-toggleable__content\"><pre>SimpleImputer()</pre></div></div></div><div class=\"sk-item\"><div class=\"sk-estimator sk-toggleable\"><input class=\"sk-toggleable__control sk-hidden--visually\" id=\"sk-estimator-id-355\" type=\"checkbox\" ><label for=\"sk-estimator-id-355\" class=\"sk-toggleable__label sk-toggleable__label-arrow\">StandardScaler</label><div class=\"sk-toggleable__content\"><pre>StandardScaler()</pre></div></div></div></div></div></div></div></div><div class=\"sk-parallel-item\"><div class=\"sk-item\"><div class=\"sk-label-container\"><div class=\"sk-label sk-toggleable\"><input class=\"sk-toggleable__control sk-hidden--visually\" id=\"sk-estimator-id-356\" type=\"checkbox\" ><label for=\"sk-estimator-id-356\" class=\"sk-toggleable__label sk-toggleable__label-arrow\">cat_pipeline</label><div class=\"sk-toggleable__content\"><pre>[&#x27;ocean_proximity&#x27;]</pre></div></div></div><div class=\"sk-serial\"><div class=\"sk-item\"><div class=\"sk-serial\"><div class=\"sk-item\"><div class=\"sk-estimator sk-toggleable\"><input class=\"sk-toggleable__control sk-hidden--visually\" id=\"sk-estimator-id-357\" type=\"checkbox\" ><label for=\"sk-estimator-id-357\" class=\"sk-toggleable__label sk-toggleable__label-arrow\">DataFrameSelector</label><div class=\"sk-toggleable__content\"><pre>DataFrameSelector(attribute_names=[&#x27;ocean_proximity&#x27;])</pre></div></div></div><div class=\"sk-item\"><div class=\"sk-estimator sk-toggleable\"><input class=\"sk-toggleable__control sk-hidden--visually\" id=\"sk-estimator-id-358\" type=\"checkbox\" ><label for=\"sk-estimator-id-358\" class=\"sk-toggleable__label sk-toggleable__label-arrow\">OneHotEncoder</label><div class=\"sk-toggleable__content\"><pre>OneHotEncoder(handle_unknown=&#x27;ignore&#x27;, sparse_output=False)</pre></div></div></div></div></div></div></div></div></div></div><div class=\"sk-item\"><div class=\"sk-estimator sk-toggleable\"><input class=\"sk-toggleable__control sk-hidden--visually\" id=\"sk-estimator-id-359\" type=\"checkbox\" ><label for=\"sk-estimator-id-359\" class=\"sk-toggleable__label sk-toggleable__label-arrow\">LinearRegression</label><div class=\"sk-toggleable__content\"><pre>LinearRegression()</pre></div></div></div></div></div></div></div>"
            ]
          },
          "metadata": {},
          "execution_count": 525
        }
      ]
    },
    {
      "cell_type": "code",
      "source": [
        "test_labels=test_data[['median_house_value']]\n",
        "test_data.drop(columns=['median_house_value'],inplace=True)"
      ],
      "metadata": {
        "id": "yKK0e3zxEr29"
      },
      "execution_count": 526,
      "outputs": []
    },
    {
      "cell_type": "code",
      "source": [
        "predicted = full_pipeline.predict(test_data)"
      ],
      "metadata": {
        "id": "fe5BpmrDEOh2"
      },
      "execution_count": 527,
      "outputs": []
    },
    {
      "cell_type": "code",
      "source": [
        "lin_mse = mean_squared_error(test_labels,predicted)"
      ],
      "metadata": {
        "id": "BboN-jM6551i"
      },
      "execution_count": 528,
      "outputs": []
    },
    {
      "cell_type": "code",
      "source": [
        "lin_rmse = np.sqrt(lin_mse)\n",
        "lin_rmse"
      ],
      "metadata": {
        "colab": {
          "base_uri": "https://localhost:8080/"
        },
        "id": "Djdbag938VW9",
        "outputId": "b509d68e-0645-4ccd-d6bb-e08842ced456"
      },
      "execution_count": 529,
      "outputs": [
        {
          "output_type": "execute_result",
          "data": {
            "text/plain": [
              "67350.13464737301"
            ]
          },
          "metadata": {},
          "execution_count": 529
        }
      ]
    },
    {
      "cell_type": "code",
      "source": [
        "r2 = r2_score(test_labels,predicted)\n",
        "r2"
      ],
      "metadata": {
        "colab": {
          "base_uri": "https://localhost:8080/"
        },
        "id": "fyBcUOkm9CqW",
        "outputId": "1185243e-1ae0-4599-c7ae-3028755aba91"
      },
      "execution_count": 530,
      "outputs": [
        {
          "output_type": "execute_result",
          "data": {
            "text/plain": [
              "0.6576728852577686"
            ]
          },
          "metadata": {},
          "execution_count": 530
        }
      ]
    }
  ]
}