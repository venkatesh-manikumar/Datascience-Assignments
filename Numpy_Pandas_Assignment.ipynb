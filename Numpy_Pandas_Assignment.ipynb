{
  "nbformat": 4,
  "nbformat_minor": 0,
  "metadata": {
    "colab": {
      "name": "Numpy_Pandas_Assignment.ipynb",
      "provenance": [],
      "authorship_tag": "ABX9TyPzBAQ1xFg49jlqd4zh2Pd+",
      "include_colab_link": true
    },
    "kernelspec": {
      "name": "python3",
      "display_name": "Python 3"
    },
    "language_info": {
      "name": "python"
    }
  },
  "cells": [
    {
      "cell_type": "markdown",
      "metadata": {
        "id": "view-in-github",
        "colab_type": "text"
      },
      "source": [
        "<a href=\"https://colab.research.google.com/github/venkatesh-manikumar/Datascience-Assignments/blob/main/Numpy_Pandas_Assignment.ipynb\" target=\"_parent\"><img src=\"https://colab.research.google.com/assets/colab-badge.svg\" alt=\"Open In Colab\"/></a>"
      ]
    },
    {
      "cell_type": "code",
      "execution_count": 1,
      "metadata": {
        "id": "vJ3H7XaK8m-6"
      },
      "outputs": [],
      "source": [
        "import numpy as np\n",
        "import pandas as pd"
      ]
    },
    {
      "cell_type": "markdown",
      "source": [
        "1.\tCreate a 2D array and print the dim and shape"
      ],
      "metadata": {
        "id": "gawzZTbI8333"
      }
    },
    {
      "cell_type": "code",
      "source": [
        "np_array = np.arange(1,5).reshape(2,2)\n",
        "print(type(np_array))\n",
        "print('Shape = ',np_array.shape)\n",
        "print('Dimension = ',np_array.ndim)\n"
      ],
      "metadata": {
        "colab": {
          "base_uri": "https://localhost:8080/"
        },
        "id": "lFt_d4qM85QY",
        "outputId": "4c3ff645-f63b-4375-cffc-ec5d5c801a35"
      },
      "execution_count": 14,
      "outputs": [
        {
          "output_type": "stream",
          "name": "stdout",
          "text": [
            "<class 'numpy.ndarray'>\n",
            "Shape =  (2, 2)\n",
            "Dimension =  2\n"
          ]
        }
      ]
    },
    {
      "cell_type": "markdown",
      "source": [
        "2.\tCreate an array of 20 numbers using arange function and slice the values between 10 to 15"
      ],
      "metadata": {
        "id": "F-KGygTV9_m1"
      }
    },
    {
      "cell_type": "code",
      "source": [
        "data = np.arange(1,21)\n",
        "slicing = slice(9,15,1)\n",
        "\n",
        "# METHOD 1\n",
        "data[slicing]"
      ],
      "metadata": {
        "colab": {
          "base_uri": "https://localhost:8080/"
        },
        "id": "t47a8zZS-B45",
        "outputId": "ef8b86a9-4443-42d5-bf30-15421c68db04"
      },
      "execution_count": 25,
      "outputs": [
        {
          "output_type": "execute_result",
          "data": {
            "text/plain": [
              "array([10, 11, 12, 13, 14, 15])"
            ]
          },
          "metadata": {},
          "execution_count": 25
        }
      ]
    },
    {
      "cell_type": "code",
      "source": [
        "# METHOD 2\n",
        "data[10:15]"
      ],
      "metadata": {
        "colab": {
          "base_uri": "https://localhost:8080/"
        },
        "id": "taTTsoH1MYrn",
        "outputId": "c1feba8d-5d63-4d58-8057-1ac4252c3184"
      },
      "execution_count": 23,
      "outputs": [
        {
          "output_type": "execute_result",
          "data": {
            "text/plain": [
              "array([11, 12, 13, 14, 15])"
            ]
          },
          "metadata": {},
          "execution_count": 23
        }
      ]
    },
    {
      "cell_type": "code",
      "source": [
        "# Result will not get stored need to assign to variable to store its state.\n",
        "print(data)\n",
        "part = data[10:15]\n",
        "part"
      ],
      "metadata": {
        "colab": {
          "base_uri": "https://localhost:8080/"
        },
        "id": "IwBSDtdFM53P",
        "outputId": "0596b9df-cc66-44c9-ea2c-ec04110bcfa8"
      },
      "execution_count": 29,
      "outputs": [
        {
          "output_type": "stream",
          "name": "stdout",
          "text": [
            "[ 1  2  3  4  5  6  7  8  9 10 11 12 13 14 15 16 17 18 19 20]\n"
          ]
        },
        {
          "output_type": "execute_result",
          "data": {
            "text/plain": [
              "array([11, 12, 13, 14, 15])"
            ]
          },
          "metadata": {},
          "execution_count": 29
        }
      ]
    },
    {
      "cell_type": "markdown",
      "source": [
        "3.\tCreate 2 arrays of 7X5 dimension and broadcast between the 2 arrays using\n",
        "\n",
        "  1.   Addition\n",
        "  2.   Subtraction\n",
        "  3.   Multiplication\n",
        "  4.   Division\n",
        "\n",
        "\n",
        "\n"
      ],
      "metadata": {
        "id": "w2ZYru5iN374"
      }
    },
    {
      "cell_type": "code",
      "source": [
        "a = np.arange(1,36).reshape(7,5)\n",
        "b = np.arange(1,36).reshape(7,5)\n",
        "\n",
        "print(a + b)\n",
        "print(type(a+b))"
      ],
      "metadata": {
        "colab": {
          "base_uri": "https://localhost:8080/"
        },
        "id": "RLG7ncl_NVi_",
        "outputId": "f34b2318-d524-4904-abe6-5c07894c69e6"
      },
      "execution_count": 39,
      "outputs": [
        {
          "output_type": "stream",
          "name": "stdout",
          "text": [
            "[[ 2  4  6  8 10]\n",
            " [12 14 16 18 20]\n",
            " [22 24 26 28 30]\n",
            " [32 34 36 38 40]\n",
            " [42 44 46 48 50]\n",
            " [52 54 56 58 60]\n",
            " [62 64 66 68 70]]\n",
            "<class 'numpy.ndarray'>\n"
          ]
        }
      ]
    },
    {
      "cell_type": "code",
      "source": [
        "print(a + b)"
      ],
      "metadata": {
        "colab": {
          "base_uri": "https://localhost:8080/"
        },
        "id": "bQ8NVcfGOn6X",
        "outputId": "14ec1487-02dd-43db-b1d4-ed2074eb6b60"
      },
      "execution_count": 40,
      "outputs": [
        {
          "output_type": "stream",
          "name": "stdout",
          "text": [
            "[[ 2  4  6  8 10]\n",
            " [12 14 16 18 20]\n",
            " [22 24 26 28 30]\n",
            " [32 34 36 38 40]\n",
            " [42 44 46 48 50]\n",
            " [52 54 56 58 60]\n",
            " [62 64 66 68 70]]\n"
          ]
        }
      ]
    },
    {
      "cell_type": "code",
      "source": [
        "print(a * b)"
      ],
      "metadata": {
        "colab": {
          "base_uri": "https://localhost:8080/"
        },
        "id": "_RdIKffAOrKc",
        "outputId": "675290c7-6dbc-40df-d037-e2df77336aaf"
      },
      "execution_count": 41,
      "outputs": [
        {
          "output_type": "stream",
          "name": "stdout",
          "text": [
            "[[   1    4    9   16   25]\n",
            " [  36   49   64   81  100]\n",
            " [ 121  144  169  196  225]\n",
            " [ 256  289  324  361  400]\n",
            " [ 441  484  529  576  625]\n",
            " [ 676  729  784  841  900]\n",
            " [ 961 1024 1089 1156 1225]]\n"
          ]
        }
      ]
    },
    {
      "cell_type": "code",
      "source": [
        "print(a // b)"
      ],
      "metadata": {
        "colab": {
          "base_uri": "https://localhost:8080/"
        },
        "id": "i1IxwlbkOtdl",
        "outputId": "29fa59fb-962f-4493-cca5-16a62d3f122b"
      },
      "execution_count": 43,
      "outputs": [
        {
          "output_type": "stream",
          "name": "stdout",
          "text": [
            "[[1 1 1 1 1]\n",
            " [1 1 1 1 1]\n",
            " [1 1 1 1 1]\n",
            " [1 1 1 1 1]\n",
            " [1 1 1 1 1]\n",
            " [1 1 1 1 1]\n",
            " [1 1 1 1 1]]\n"
          ]
        }
      ]
    },
    {
      "cell_type": "markdown",
      "source": [
        "4.\tCreate 2 incompatible arrays for broadcast and print out the error"
      ],
      "metadata": {
        "id": "a0EMQQ7fO2p1"
      }
    },
    {
      "cell_type": "code",
      "source": [
        "x = np.arange(1,5).reshape(2,2)\n",
        "y = np.arange(1,5).reshape(4,1)\n",
        "\n",
        "x + y  # \"ValueError: operands could not be broadcast together with shapes (2,2) (4,1) \""
      ],
      "metadata": {
        "colab": {
          "base_uri": "https://localhost:8080/",
          "height": 200
        },
        "id": "ywBekzRQO3Q8",
        "outputId": "00f56f27-3bf3-4a7f-caea-208a02c86eeb"
      },
      "execution_count": 49,
      "outputs": [
        {
          "output_type": "error",
          "ename": "ValueError",
          "evalue": "ignored",
          "traceback": [
            "\u001b[0;31m---------------------------------------------------------------------------\u001b[0m",
            "\u001b[0;31mValueError\u001b[0m                                Traceback (most recent call last)",
            "\u001b[0;32m<ipython-input-49-5bdcccc9361d>\u001b[0m in \u001b[0;36m<module>\u001b[0;34m()\u001b[0m\n\u001b[1;32m      2\u001b[0m \u001b[0my\u001b[0m \u001b[0;34m=\u001b[0m \u001b[0mnp\u001b[0m\u001b[0;34m.\u001b[0m\u001b[0marange\u001b[0m\u001b[0;34m(\u001b[0m\u001b[0;36m1\u001b[0m\u001b[0;34m,\u001b[0m\u001b[0;36m5\u001b[0m\u001b[0;34m)\u001b[0m\u001b[0;34m.\u001b[0m\u001b[0mreshape\u001b[0m\u001b[0;34m(\u001b[0m\u001b[0;36m4\u001b[0m\u001b[0;34m,\u001b[0m\u001b[0;36m1\u001b[0m\u001b[0;34m)\u001b[0m\u001b[0;34m\u001b[0m\u001b[0;34m\u001b[0m\u001b[0m\n\u001b[1;32m      3\u001b[0m \u001b[0;34m\u001b[0m\u001b[0m\n\u001b[0;32m----> 4\u001b[0;31m \u001b[0mx\u001b[0m \u001b[0;34m+\u001b[0m \u001b[0my\u001b[0m\u001b[0;34m\u001b[0m\u001b[0;34m\u001b[0m\u001b[0m\n\u001b[0m",
            "\u001b[0;31mValueError\u001b[0m: operands could not be broadcast together with shapes (2,2) (4,1) "
          ]
        }
      ]
    }
  ]
}