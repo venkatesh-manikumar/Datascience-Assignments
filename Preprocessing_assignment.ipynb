{
  "nbformat": 4,
  "nbformat_minor": 0,
  "metadata": {
    "colab": {
      "name": "Preprocessing_assignment.ipynb",
      "provenance": [],
      "mount_file_id": "1pTstgmezOpVGe5GBBQsU1X97CBq7XwGn",
      "authorship_tag": "ABX9TyN7yc0LhCpJ9F/RhWIg8WKe",
      "include_colab_link": true
    },
    "kernelspec": {
      "name": "python3",
      "display_name": "Python 3"
    },
    "language_info": {
      "name": "python"
    }
  },
  "cells": [
    {
      "cell_type": "markdown",
      "metadata": {
        "id": "view-in-github",
        "colab_type": "text"
      },
      "source": [
        "<a href=\"https://colab.research.google.com/github/venkatesh-manikumar/Datascience-Assignments/blob/main/Preprocessing_assignment.ipynb\" target=\"_parent\"><img src=\"https://colab.research.google.com/assets/colab-badge.svg\" alt=\"Open In Colab\"/></a>"
      ]
    },
    {
      "cell_type": "code",
      "execution_count": 1,
      "metadata": {
        "id": "DYEHKA832Xou"
      },
      "outputs": [],
      "source": [
        "import pandas as pd\n",
        "import numpy as np"
      ]
    },
    {
      "cell_type": "markdown",
      "source": [
        "1.\tRead the demand transaction file and print the first 15 rows and dtypes"
      ],
      "metadata": {
        "id": "ZpCQYHxF3rQJ"
      }
    },
    {
      "cell_type": "code",
      "source": [
        "raw = pd.read_csv('/content/drive/MyDrive/DataScience/Preprocessing_assignment/Demand_txn_updated.csv')\n",
        "raw.head(5)"
      ],
      "metadata": {
        "colab": {
          "base_uri": "https://localhost:8080/",
          "height": 300
        },
        "id": "iGAoroUx3sG7",
        "outputId": "e8b2f352-435b-4eed-ae67-34abbdf15654"
      },
      "execution_count": 6,
      "outputs": [
        {
          "output_type": "execute_result",
          "data": {
            "text/plain": [
              "        City Mapped_Sales_Type  Mapped_Item_Code Transaction_Date  \\\n",
              "0  Hyderabad         Take Away              9978        7/31/2018   \n",
              "1  Hyderabad         Take Away              4064        7/31/2018   \n",
              "2  Hyderabad         Main Hall               965        7/31/2018   \n",
              "3  Hyderabad           Express              9978        7/31/2018   \n",
              "4  Hyderabad           Express              1045        7/31/2018   \n",
              "\n",
              "   Quantity_Sold  Median_Price  Average_Tax_Percent  Effective_Price  \\\n",
              "0            167         187.0                 0.05       163.700000   \n",
              "1            368         602.0                 0.05       584.329105   \n",
              "2            694         263.0                 0.05       244.835163   \n",
              "3            140         263.0                 0.05       243.500000   \n",
              "4            139         392.0                 0.05       378.960000   \n",
              "\n",
              "   Percent_Quantity_With_Discount  Avg_Discount_Percent_On_Discounted_Items  \\\n",
              "0                             NaN                                       NaN   \n",
              "1                        0.027237                                      1.05   \n",
              "2                             NaN                                       NaN   \n",
              "3                             NaN                                       NaN   \n",
              "4                             NaN                                       NaN   \n",
              "\n",
              "   ...  Day  Car_sales F_and_B_Inflation  \\\n",
              "0  ...  Tue    7559.28             143.7   \n",
              "1  ...  Tue    7559.28             143.7   \n",
              "2  ...  Tue    7559.28             143.7   \n",
              "3  ...  Tue    7559.28             143.7   \n",
              "4  ...  Tue    7559.28             143.7   \n",
              "\n",
              "   F_and_B_Inflation_Adjusted_Effective_Price  \\\n",
              "0                                    0.832985   \n",
              "1                                    3.760119   \n",
              "2                                    1.397600   \n",
              "3                                    1.388309   \n",
              "4                                    2.330967   \n",
              "\n",
              "   F_and_B_Inflation_Adjusted_Median_Price  First_Week_Of_The_Month_Dummy  \\\n",
              "0                                 0.793319                              0   \n",
              "1                                 3.681280                              0   \n",
              "2                                 1.322199                              0   \n",
              "3                                 1.322199                              0   \n",
              "4                                 2.219903                              0   \n",
              "\n",
              "   Last_Week_Of_The_Month_Dummy  Day_Of_The_Week_Seasonality  \\\n",
              "0                             1                         0.86   \n",
              "1                             1                         0.83   \n",
              "2                             1                         1.08   \n",
              "3                             1                         0.78   \n",
              "4                             1                         0.73   \n",
              "\n",
              "   Month_Of_The_Year_Seasonality  Two_Wheeler_sales  \n",
              "0                           0.91           37307.52  \n",
              "1                           0.91           37307.52  \n",
              "2                           1.08           37307.52  \n",
              "3                           0.08           37307.52  \n",
              "4                           0.08           37307.52  \n",
              "\n",
              "[5 rows x 22 columns]"
            ],
            "text/html": [
              "\n",
              "  <div id=\"df-65870491-1e80-475b-8496-40873114d62f\">\n",
              "    <div class=\"colab-df-container\">\n",
              "      <div>\n",
              "<style scoped>\n",
              "    .dataframe tbody tr th:only-of-type {\n",
              "        vertical-align: middle;\n",
              "    }\n",
              "\n",
              "    .dataframe tbody tr th {\n",
              "        vertical-align: top;\n",
              "    }\n",
              "\n",
              "    .dataframe thead th {\n",
              "        text-align: right;\n",
              "    }\n",
              "</style>\n",
              "<table border=\"1\" class=\"dataframe\">\n",
              "  <thead>\n",
              "    <tr style=\"text-align: right;\">\n",
              "      <th></th>\n",
              "      <th>City</th>\n",
              "      <th>Mapped_Sales_Type</th>\n",
              "      <th>Mapped_Item_Code</th>\n",
              "      <th>Transaction_Date</th>\n",
              "      <th>Quantity_Sold</th>\n",
              "      <th>Median_Price</th>\n",
              "      <th>Average_Tax_Percent</th>\n",
              "      <th>Effective_Price</th>\n",
              "      <th>Percent_Quantity_With_Discount</th>\n",
              "      <th>Avg_Discount_Percent_On_Discounted_Items</th>\n",
              "      <th>...</th>\n",
              "      <th>Day</th>\n",
              "      <th>Car_sales</th>\n",
              "      <th>F_and_B_Inflation</th>\n",
              "      <th>F_and_B_Inflation_Adjusted_Effective_Price</th>\n",
              "      <th>F_and_B_Inflation_Adjusted_Median_Price</th>\n",
              "      <th>First_Week_Of_The_Month_Dummy</th>\n",
              "      <th>Last_Week_Of_The_Month_Dummy</th>\n",
              "      <th>Day_Of_The_Week_Seasonality</th>\n",
              "      <th>Month_Of_The_Year_Seasonality</th>\n",
              "      <th>Two_Wheeler_sales</th>\n",
              "    </tr>\n",
              "  </thead>\n",
              "  <tbody>\n",
              "    <tr>\n",
              "      <th>0</th>\n",
              "      <td>Hyderabad</td>\n",
              "      <td>Take Away</td>\n",
              "      <td>9978</td>\n",
              "      <td>7/31/2018</td>\n",
              "      <td>167</td>\n",
              "      <td>187.0</td>\n",
              "      <td>0.05</td>\n",
              "      <td>163.700000</td>\n",
              "      <td>NaN</td>\n",
              "      <td>NaN</td>\n",
              "      <td>...</td>\n",
              "      <td>Tue</td>\n",
              "      <td>7559.28</td>\n",
              "      <td>143.7</td>\n",
              "      <td>0.832985</td>\n",
              "      <td>0.793319</td>\n",
              "      <td>0</td>\n",
              "      <td>1</td>\n",
              "      <td>0.86</td>\n",
              "      <td>0.91</td>\n",
              "      <td>37307.52</td>\n",
              "    </tr>\n",
              "    <tr>\n",
              "      <th>1</th>\n",
              "      <td>Hyderabad</td>\n",
              "      <td>Take Away</td>\n",
              "      <td>4064</td>\n",
              "      <td>7/31/2018</td>\n",
              "      <td>368</td>\n",
              "      <td>602.0</td>\n",
              "      <td>0.05</td>\n",
              "      <td>584.329105</td>\n",
              "      <td>0.027237</td>\n",
              "      <td>1.05</td>\n",
              "      <td>...</td>\n",
              "      <td>Tue</td>\n",
              "      <td>7559.28</td>\n",
              "      <td>143.7</td>\n",
              "      <td>3.760119</td>\n",
              "      <td>3.681280</td>\n",
              "      <td>0</td>\n",
              "      <td>1</td>\n",
              "      <td>0.83</td>\n",
              "      <td>0.91</td>\n",
              "      <td>37307.52</td>\n",
              "    </tr>\n",
              "    <tr>\n",
              "      <th>2</th>\n",
              "      <td>Hyderabad</td>\n",
              "      <td>Main Hall</td>\n",
              "      <td>965</td>\n",
              "      <td>7/31/2018</td>\n",
              "      <td>694</td>\n",
              "      <td>263.0</td>\n",
              "      <td>0.05</td>\n",
              "      <td>244.835163</td>\n",
              "      <td>NaN</td>\n",
              "      <td>NaN</td>\n",
              "      <td>...</td>\n",
              "      <td>Tue</td>\n",
              "      <td>7559.28</td>\n",
              "      <td>143.7</td>\n",
              "      <td>1.397600</td>\n",
              "      <td>1.322199</td>\n",
              "      <td>0</td>\n",
              "      <td>1</td>\n",
              "      <td>1.08</td>\n",
              "      <td>1.08</td>\n",
              "      <td>37307.52</td>\n",
              "    </tr>\n",
              "    <tr>\n",
              "      <th>3</th>\n",
              "      <td>Hyderabad</td>\n",
              "      <td>Express</td>\n",
              "      <td>9978</td>\n",
              "      <td>7/31/2018</td>\n",
              "      <td>140</td>\n",
              "      <td>263.0</td>\n",
              "      <td>0.05</td>\n",
              "      <td>243.500000</td>\n",
              "      <td>NaN</td>\n",
              "      <td>NaN</td>\n",
              "      <td>...</td>\n",
              "      <td>Tue</td>\n",
              "      <td>7559.28</td>\n",
              "      <td>143.7</td>\n",
              "      <td>1.388309</td>\n",
              "      <td>1.322199</td>\n",
              "      <td>0</td>\n",
              "      <td>1</td>\n",
              "      <td>0.78</td>\n",
              "      <td>0.08</td>\n",
              "      <td>37307.52</td>\n",
              "    </tr>\n",
              "    <tr>\n",
              "      <th>4</th>\n",
              "      <td>Hyderabad</td>\n",
              "      <td>Express</td>\n",
              "      <td>1045</td>\n",
              "      <td>7/31/2018</td>\n",
              "      <td>139</td>\n",
              "      <td>392.0</td>\n",
              "      <td>0.05</td>\n",
              "      <td>378.960000</td>\n",
              "      <td>NaN</td>\n",
              "      <td>NaN</td>\n",
              "      <td>...</td>\n",
              "      <td>Tue</td>\n",
              "      <td>7559.28</td>\n",
              "      <td>143.7</td>\n",
              "      <td>2.330967</td>\n",
              "      <td>2.219903</td>\n",
              "      <td>0</td>\n",
              "      <td>1</td>\n",
              "      <td>0.73</td>\n",
              "      <td>0.08</td>\n",
              "      <td>37307.52</td>\n",
              "    </tr>\n",
              "  </tbody>\n",
              "</table>\n",
              "<p>5 rows × 22 columns</p>\n",
              "</div>\n",
              "      <button class=\"colab-df-convert\" onclick=\"convertToInteractive('df-65870491-1e80-475b-8496-40873114d62f')\"\n",
              "              title=\"Convert this dataframe to an interactive table.\"\n",
              "              style=\"display:none;\">\n",
              "        \n",
              "  <svg xmlns=\"http://www.w3.org/2000/svg\" height=\"24px\"viewBox=\"0 0 24 24\"\n",
              "       width=\"24px\">\n",
              "    <path d=\"M0 0h24v24H0V0z\" fill=\"none\"/>\n",
              "    <path d=\"M18.56 5.44l.94 2.06.94-2.06 2.06-.94-2.06-.94-.94-2.06-.94 2.06-2.06.94zm-11 1L8.5 8.5l.94-2.06 2.06-.94-2.06-.94L8.5 2.5l-.94 2.06-2.06.94zm10 10l.94 2.06.94-2.06 2.06-.94-2.06-.94-.94-2.06-.94 2.06-2.06.94z\"/><path d=\"M17.41 7.96l-1.37-1.37c-.4-.4-.92-.59-1.43-.59-.52 0-1.04.2-1.43.59L10.3 9.45l-7.72 7.72c-.78.78-.78 2.05 0 2.83L4 21.41c.39.39.9.59 1.41.59.51 0 1.02-.2 1.41-.59l7.78-7.78 2.81-2.81c.8-.78.8-2.07 0-2.86zM5.41 20L4 18.59l7.72-7.72 1.47 1.35L5.41 20z\"/>\n",
              "  </svg>\n",
              "      </button>\n",
              "      \n",
              "  <style>\n",
              "    .colab-df-container {\n",
              "      display:flex;\n",
              "      flex-wrap:wrap;\n",
              "      gap: 12px;\n",
              "    }\n",
              "\n",
              "    .colab-df-convert {\n",
              "      background-color: #E8F0FE;\n",
              "      border: none;\n",
              "      border-radius: 50%;\n",
              "      cursor: pointer;\n",
              "      display: none;\n",
              "      fill: #1967D2;\n",
              "      height: 32px;\n",
              "      padding: 0 0 0 0;\n",
              "      width: 32px;\n",
              "    }\n",
              "\n",
              "    .colab-df-convert:hover {\n",
              "      background-color: #E2EBFA;\n",
              "      box-shadow: 0px 1px 2px rgba(60, 64, 67, 0.3), 0px 1px 3px 1px rgba(60, 64, 67, 0.15);\n",
              "      fill: #174EA6;\n",
              "    }\n",
              "\n",
              "    [theme=dark] .colab-df-convert {\n",
              "      background-color: #3B4455;\n",
              "      fill: #D2E3FC;\n",
              "    }\n",
              "\n",
              "    [theme=dark] .colab-df-convert:hover {\n",
              "      background-color: #434B5C;\n",
              "      box-shadow: 0px 1px 3px 1px rgba(0, 0, 0, 0.15);\n",
              "      filter: drop-shadow(0px 1px 2px rgba(0, 0, 0, 0.3));\n",
              "      fill: #FFFFFF;\n",
              "    }\n",
              "  </style>\n",
              "\n",
              "      <script>\n",
              "        const buttonEl =\n",
              "          document.querySelector('#df-65870491-1e80-475b-8496-40873114d62f button.colab-df-convert');\n",
              "        buttonEl.style.display =\n",
              "          google.colab.kernel.accessAllowed ? 'block' : 'none';\n",
              "\n",
              "        async function convertToInteractive(key) {\n",
              "          const element = document.querySelector('#df-65870491-1e80-475b-8496-40873114d62f');\n",
              "          const dataTable =\n",
              "            await google.colab.kernel.invokeFunction('convertToInteractive',\n",
              "                                                     [key], {});\n",
              "          if (!dataTable) return;\n",
              "\n",
              "          const docLinkHtml = 'Like what you see? Visit the ' +\n",
              "            '<a target=\"_blank\" href=https://colab.research.google.com/notebooks/data_table.ipynb>data table notebook</a>'\n",
              "            + ' to learn more about interactive tables.';\n",
              "          element.innerHTML = '';\n",
              "          dataTable['output_type'] = 'display_data';\n",
              "          await google.colab.output.renderOutput(dataTable, element);\n",
              "          const docLink = document.createElement('div');\n",
              "          docLink.innerHTML = docLinkHtml;\n",
              "          element.appendChild(docLink);\n",
              "        }\n",
              "      </script>\n",
              "    </div>\n",
              "  </div>\n",
              "  "
            ]
          },
          "metadata": {},
          "execution_count": 6
        }
      ]
    },
    {
      "cell_type": "code",
      "source": [
        "raw.dtypes"
      ],
      "metadata": {
        "colab": {
          "base_uri": "https://localhost:8080/"
        },
        "id": "9MY4DJgk4GPh",
        "outputId": "bd76ec99-5cea-46f4-f0c0-498040c63480"
      },
      "execution_count": 7,
      "outputs": [
        {
          "output_type": "execute_result",
          "data": {
            "text/plain": [
              "City                                           object\n",
              "Mapped_Sales_Type                              object\n",
              "Mapped_Item_Code                                int64\n",
              "Transaction_Date                               object\n",
              "Quantity_Sold                                   int64\n",
              "Median_Price                                  float64\n",
              "Average_Tax_Percent                           float64\n",
              "Effective_Price                               float64\n",
              "Percent_Quantity_With_Discount                float64\n",
              "Avg_Discount_Percent_On_Discounted_Items      float64\n",
              "Year                                            int64\n",
              "Month                                           int64\n",
              "Day                                            object\n",
              "Car_sales                                     float64\n",
              "F_and_B_Inflation                             float64\n",
              "F_and_B_Inflation_Adjusted_Effective_Price    float64\n",
              "F_and_B_Inflation_Adjusted_Median_Price       float64\n",
              "First_Week_Of_The_Month_Dummy                   int64\n",
              "Last_Week_Of_The_Month_Dummy                    int64\n",
              "Day_Of_The_Week_Seasonality                   float64\n",
              "Month_Of_The_Year_Seasonality                 float64\n",
              "Two_Wheeler_sales                             float64\n",
              "dtype: object"
            ]
          },
          "metadata": {},
          "execution_count": 7
        }
      ]
    },
    {
      "cell_type": "markdown",
      "source": [
        "2.\tConvert the transaction date column to a date column using pd.to_datetime function"
      ],
      "metadata": {
        "id": "BJNtTdCm4ANH"
      }
    },
    {
      "cell_type": "code",
      "source": [
        "raw.Transaction_Date.dtype # current datatype is 'object'\n",
        "raw.Transaction_Date.head(3) # 7/31/2018\n",
        "\n",
        "raw.Transaction_Date = pd.to_datetime(raw.Transaction_Date , \n",
        "               errors ='coerce' , # default\n",
        "               exact = True , # default\n",
        "               #format = \"%m/%d/%Y\",\n",
        "               infer_datetime_format=True)\n",
        "\n",
        "raw.Transaction_Date.dtype # dtype('<M8[ns]')\n",
        "\n",
        "raw.Transaction_Date.isna().sum() # No null values"
      ],
      "metadata": {
        "colab": {
          "base_uri": "https://localhost:8080/"
        },
        "id": "bMD7wHVo4CKg",
        "outputId": "cc9efbb9-ee81-42d7-fb26-4eb1334f4638"
      },
      "execution_count": 62,
      "outputs": [
        {
          "output_type": "execute_result",
          "data": {
            "text/plain": [
              "0"
            ]
          },
          "metadata": {},
          "execution_count": 62
        }
      ]
    },
    {
      "cell_type": "markdown",
      "source": [
        "3.\tSubset the dataframe for transaction date greater than '2016-08-01'"
      ],
      "metadata": {
        "id": "6xwA8bYR8UQF"
      }
    },
    {
      "cell_type": "code",
      "source": [
        "condition = raw.Transaction_Date > '2016-08-01'\n",
        "\n",
        "subset = raw[condition]\n",
        "\n",
        "#raw[condition].Transaction_Date.count() # 30192\n",
        "#raw.loc[condition].Transaction_Date.count() # 30192\n",
        "\n",
        "subset.shape\n"
      ],
      "metadata": {
        "colab": {
          "base_uri": "https://localhost:8080/"
        },
        "id": "ZmQwUQzD4Z-C",
        "outputId": "7b5be87d-73b8-4914-dfa7-967469f2a0a3"
      },
      "execution_count": 64,
      "outputs": [
        {
          "output_type": "execute_result",
          "data": {
            "text/plain": [
              "(30192, 22)"
            ]
          },
          "metadata": {},
          "execution_count": 64
        }
      ]
    },
    {
      "cell_type": "markdown",
      "source": [
        "4.\tLook for unique values in Mapped_Sales_Type"
      ],
      "metadata": {
        "id": "iDH5rFdt_EM0"
      }
    },
    {
      "cell_type": "code",
      "source": [
        "raw.Mapped_Sales_Type.unique()\n",
        "\n",
        "raw.Mapped_Sales_Type.value_counts()"
      ],
      "metadata": {
        "colab": {
          "base_uri": "https://localhost:8080/"
        },
        "id": "VTLnF3jb_Em1",
        "outputId": "9151eeb8-0851-43a3-cead-a77f29ea935c"
      },
      "execution_count": 67,
      "outputs": [
        {
          "output_type": "execute_result",
          "data": {
            "text/plain": [
              "Take Away    9812\n",
              "Delivery     9469\n",
              "Dine-in      5271\n",
              "Main Hall    3529\n",
              "Express      2061\n",
              "Bakery         89\n",
              "Name: Mapped_Sales_Type, dtype: int64"
            ]
          },
          "metadata": {},
          "execution_count": 67
        }
      ]
    },
    {
      "cell_type": "markdown",
      "source": [
        "5.\tSubset the entire dataframe,based on the below condition, to a new dataframe and work on the following questions\n",
        "\n",
        "a.\tCondition: Avg_Discount_Percent_On_Discounted_Items should be less than 1.0\n",
        "\n",
        "b.\tCheck for sanity if the new dataframe contains Avg_Discount_Percent_On_Discounted_Items greater than or equal to 1.0\n"
      ],
      "metadata": {
        "id": "_sfEMk42_U_Z"
      }
    },
    {
      "cell_type": "code",
      "source": [
        "condition = raw.Avg_Discount_Percent_On_Discounted_Items < 1.0\n",
        "\n",
        "raw.Avg_Discount_Percent_On_Discounted_Items.isna().sum() # 18029 Null values\n",
        "\n",
        "raw.Avg_Discount_Percent_On_Discounted_Items = raw.Avg_Discount_Percent_On_Discounted_Items.fillna(0) # replacing null with 0\n",
        "\n",
        "df = raw[condition]\n",
        "\n",
        "sanity = raw.Avg_Discount_Percent_On_Discounted_Items >= 1.0\n",
        "\n",
        "df[sanity].count()\n"
      ],
      "metadata": {
        "colab": {
          "base_uri": "https://localhost:8080/"
        },
        "id": "tPNpg61d_VYP",
        "outputId": "aa47b404-f9b2-4d50-87e2-ce123b8976ba"
      },
      "execution_count": 91,
      "outputs": [
        {
          "output_type": "stream",
          "name": "stderr",
          "text": [
            "/usr/local/lib/python3.7/dist-packages/ipykernel_launcher.py:11: UserWarning: Boolean Series key will be reindexed to match DataFrame index.\n",
            "  # This is added back by InteractiveShellApp.init_path()\n"
          ]
        },
        {
          "output_type": "execute_result",
          "data": {
            "text/plain": [
              "City                                          0\n",
              "Mapped_Sales_Type                             0\n",
              "Mapped_Item_Code                              0\n",
              "Transaction_Date                              0\n",
              "Quantity_Sold                                 0\n",
              "Median_Price                                  0\n",
              "Average_Tax_Percent                           0\n",
              "Effective_Price                               0\n",
              "Percent_Quantity_With_Discount                0\n",
              "Avg_Discount_Percent_On_Discounted_Items      0\n",
              "Year                                          0\n",
              "Month                                         0\n",
              "Day                                           0\n",
              "Car_sales                                     0\n",
              "F_and_B_Inflation                             0\n",
              "F_and_B_Inflation_Adjusted_Effective_Price    0\n",
              "F_and_B_Inflation_Adjusted_Median_Price       0\n",
              "First_Week_Of_The_Month_Dummy                 0\n",
              "Last_Week_Of_The_Month_Dummy                  0\n",
              "Day_Of_The_Week_Seasonality                   0\n",
              "Month_Of_The_Year_Seasonality                 0\n",
              "Two_Wheeler_sales                             0\n",
              "dtype: int64"
            ]
          },
          "metadata": {},
          "execution_count": 91
        }
      ]
    },
    {
      "cell_type": "markdown",
      "source": [
        "6.\tGroupby'City', 'Mapped_Sales_Type', 'Mapped_Item_Code', 'Transaction_Date' and perform following aggregate operations on respective columns as mentioned (note: Only one groupby to do all the below aggregations)\n",
        "\n",
        "a.\tQuantity_Sold – sum\n",
        "\n",
        "b.\tMedian_Price – median\n",
        "\n",
        "c.\tEffective_Price – median\n"
      ],
      "metadata": {
        "id": "-0v81OnRCGLP"
      }
    },
    {
      "cell_type": "code",
      "source": [
        "#raw.groupby('City', 'Mapped_Sales_Type                             ', 'Mapped_Item_Code', 'Transaction_Date')['Quantity_Sold','Median_Price','Effective_Price'].sum()\n",
        "#data_points.groupby('Hair_Color')['Age','Validation'].sum().reset_index()\n",
        "\n",
        "raw.groupby('City','Transaction_Date').Quantity_Sold.sum()"
      ],
      "metadata": {
        "colab": {
          "base_uri": "https://localhost:8080/",
          "height": 432
        },
        "id": "A6YpFZV6CGjo",
        "outputId": "b1941148-31ab-4020-e38c-54e774d12c28"
      },
      "execution_count": 106,
      "outputs": [
        {
          "output_type": "error",
          "ename": "ValueError",
          "evalue": "ignored",
          "traceback": [
            "\u001b[0;31m---------------------------------------------------------------------------\u001b[0m",
            "\u001b[0;31mKeyError\u001b[0m                                  Traceback (most recent call last)",
            "\u001b[0;32m/usr/local/lib/python3.7/dist-packages/pandas/core/generic.py\u001b[0m in \u001b[0;36m_get_axis_number\u001b[0;34m(cls, axis)\u001b[0m\n\u001b[1;32m    545\u001b[0m         \u001b[0;32mtry\u001b[0m\u001b[0;34m:\u001b[0m\u001b[0;34m\u001b[0m\u001b[0;34m\u001b[0m\u001b[0m\n\u001b[0;32m--> 546\u001b[0;31m             \u001b[0;32mreturn\u001b[0m \u001b[0mcls\u001b[0m\u001b[0;34m.\u001b[0m\u001b[0m_AXIS_TO_AXIS_NUMBER\u001b[0m\u001b[0;34m[\u001b[0m\u001b[0maxis\u001b[0m\u001b[0;34m]\u001b[0m\u001b[0;34m\u001b[0m\u001b[0;34m\u001b[0m\u001b[0m\n\u001b[0m\u001b[1;32m    547\u001b[0m         \u001b[0;32mexcept\u001b[0m \u001b[0mKeyError\u001b[0m\u001b[0;34m:\u001b[0m\u001b[0;34m\u001b[0m\u001b[0;34m\u001b[0m\u001b[0m\n",
            "\u001b[0;31mKeyError\u001b[0m: 'Transaction_Date'",
            "\nDuring handling of the above exception, another exception occurred:\n",
            "\u001b[0;31mValueError\u001b[0m                                Traceback (most recent call last)",
            "\u001b[0;32m<ipython-input-106-9bd33e3a81a4>\u001b[0m in \u001b[0;36m<module>\u001b[0;34m()\u001b[0m\n\u001b[1;32m      2\u001b[0m \u001b[0;31m#data_points.groupby('Hair_Color')['Age','Validation'].sum().reset_index()\u001b[0m\u001b[0;34m\u001b[0m\u001b[0;34m\u001b[0m\u001b[0;34m\u001b[0m\u001b[0m\n\u001b[1;32m      3\u001b[0m \u001b[0;34m\u001b[0m\u001b[0m\n\u001b[0;32m----> 4\u001b[0;31m \u001b[0mraw\u001b[0m\u001b[0;34m.\u001b[0m\u001b[0mgroupby\u001b[0m\u001b[0;34m(\u001b[0m\u001b[0;34m'City'\u001b[0m\u001b[0;34m,\u001b[0m\u001b[0;34m'Transaction_Date'\u001b[0m\u001b[0;34m)\u001b[0m\u001b[0;34m.\u001b[0m\u001b[0mQuantity_Sold\u001b[0m\u001b[0;34m.\u001b[0m\u001b[0msum\u001b[0m\u001b[0;34m(\u001b[0m\u001b[0;34m)\u001b[0m\u001b[0;34m\u001b[0m\u001b[0;34m\u001b[0m\u001b[0m\n\u001b[0m",
            "\u001b[0;32m/usr/local/lib/python3.7/dist-packages/pandas/core/frame.py\u001b[0m in \u001b[0;36mgroupby\u001b[0;34m(self, by, axis, level, as_index, sort, group_keys, squeeze, observed, dropna)\u001b[0m\n\u001b[1;32m   7625\u001b[0m         \u001b[0;32mif\u001b[0m \u001b[0mlevel\u001b[0m \u001b[0;32mis\u001b[0m \u001b[0;32mNone\u001b[0m \u001b[0;32mand\u001b[0m \u001b[0mby\u001b[0m \u001b[0;32mis\u001b[0m \u001b[0;32mNone\u001b[0m\u001b[0;34m:\u001b[0m\u001b[0;34m\u001b[0m\u001b[0;34m\u001b[0m\u001b[0m\n\u001b[1;32m   7626\u001b[0m             \u001b[0;32mraise\u001b[0m \u001b[0mTypeError\u001b[0m\u001b[0;34m(\u001b[0m\u001b[0;34m\"You have to supply one of 'by' and 'level'\"\u001b[0m\u001b[0;34m)\u001b[0m\u001b[0;34m\u001b[0m\u001b[0;34m\u001b[0m\u001b[0m\n\u001b[0;32m-> 7627\u001b[0;31m         \u001b[0maxis\u001b[0m \u001b[0;34m=\u001b[0m \u001b[0mself\u001b[0m\u001b[0;34m.\u001b[0m\u001b[0m_get_axis_number\u001b[0m\u001b[0;34m(\u001b[0m\u001b[0maxis\u001b[0m\u001b[0;34m)\u001b[0m\u001b[0;34m\u001b[0m\u001b[0;34m\u001b[0m\u001b[0m\n\u001b[0m\u001b[1;32m   7628\u001b[0m \u001b[0;34m\u001b[0m\u001b[0m\n\u001b[1;32m   7629\u001b[0m         \u001b[0;31m# error: Argument \"squeeze\" to \"DataFrameGroupBy\" has incompatible type\u001b[0m\u001b[0;34m\u001b[0m\u001b[0;34m\u001b[0m\u001b[0;34m\u001b[0m\u001b[0m\n",
            "\u001b[0;32m/usr/local/lib/python3.7/dist-packages/pandas/core/generic.py\u001b[0m in \u001b[0;36m_get_axis_number\u001b[0;34m(cls, axis)\u001b[0m\n\u001b[1;32m    546\u001b[0m             \u001b[0;32mreturn\u001b[0m \u001b[0mcls\u001b[0m\u001b[0;34m.\u001b[0m\u001b[0m_AXIS_TO_AXIS_NUMBER\u001b[0m\u001b[0;34m[\u001b[0m\u001b[0maxis\u001b[0m\u001b[0;34m]\u001b[0m\u001b[0;34m\u001b[0m\u001b[0;34m\u001b[0m\u001b[0m\n\u001b[1;32m    547\u001b[0m         \u001b[0;32mexcept\u001b[0m \u001b[0mKeyError\u001b[0m\u001b[0;34m:\u001b[0m\u001b[0;34m\u001b[0m\u001b[0;34m\u001b[0m\u001b[0m\n\u001b[0;32m--> 548\u001b[0;31m             \u001b[0;32mraise\u001b[0m \u001b[0mValueError\u001b[0m\u001b[0;34m(\u001b[0m\u001b[0;34mf\"No axis named {axis} for object type {cls.__name__}\"\u001b[0m\u001b[0;34m)\u001b[0m\u001b[0;34m\u001b[0m\u001b[0;34m\u001b[0m\u001b[0m\n\u001b[0m\u001b[1;32m    549\u001b[0m \u001b[0;34m\u001b[0m\u001b[0m\n\u001b[1;32m    550\u001b[0m     \u001b[0;34m@\u001b[0m\u001b[0mfinal\u001b[0m\u001b[0;34m\u001b[0m\u001b[0;34m\u001b[0m\u001b[0m\n",
            "\u001b[0;31mValueError\u001b[0m: No axis named Transaction_Date for object type DataFrame"
          ]
        }
      ]
    }
  ]
}